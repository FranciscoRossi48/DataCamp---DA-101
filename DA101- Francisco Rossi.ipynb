{
 "cells": [
  {
   "cell_type": "markdown",
   "id": "cd695d63-8341-47fc-b798-83ea9ffcff07",
   "metadata": {
    "tags": []
   },
   "source": [
    "# Data Analyst Associate Case Study\n",
    "\n",
    "## Company Background\n",
    "\n",
    "Vivendo is a fast food chain with 200+ stores in four locations in Brazil. For the past five years, this fast food chain has experienced incredible growth. To reorganize its legal department, they have hired a new chief legal officer.  \n",
    "\n",
    "## Customer Question\n",
    "\n",
    "The chief legal officer has decided to investigate the existing claims records. They want to come up with a plan for the future. They would like you to answer the following questions to help:\n",
    "\n",
    "- What are the characteristics of the claims in different locations? \n",
    "- How much does the claim amount differ from each claim?\n",
    "- What we can learn from comparing active claims and closed claims?\n",
    "\n",
    "## Dataset\n",
    "The data you will use for this analysis can be downloaded from [here](https://s3.amazonaws.com/talent-assets.datacamp.com/restuarant_claims.csv)."
   ]
  },
  {
   "cell_type": "markdown",
   "id": "a5b3bc0e-b993-4ee3-bd07-825a474bd0d9",
   "metadata": {
    "tags": []
   },
   "source": [
    "## Data Analyst Associate Case Study Submission\n",
    "\n",
    "Use this template to write up your summary for submission. You can use any markdown formatting you wish. \n",
    "\n",
    "To include visualizations, upload a png or jpeg file using the menu on the left. Then use the template code below (click on the edit option to the right of this box to see the code) to add the graphic in the position you want it to appear.\n",
    "\n",
    "![Alternative Text](name_of_file.png)\n",
    "![Jpeg Example](name_of_file.jpeg)\n"
   ]
  },
  {
   "cell_type": "markdown",
   "id": "d1b1a012-1ccb-40e7-a1ad-77b60b256690",
   "metadata": {
    "tags": []
   },
   "source": [
    "### Data Validation\n",
    "Describe the validation tasks you performed and what you found. Have you made any changes to the data to enable further analysis? Remember to describe what you did for every column in the data. \n",
    "\n",
    "After reading the CSV file, the first thing I do is to see the data type of each column with the DTYPES attribute. It shows that every column is an object, so I need to make some data conversions to match the criteria of the data dictionary.\n",
    "I use the TO_DATETIME function to convert both CLAIM START DATE and CLOSE DATE columns from object to datetime. I specify the DAYFIRST argument to reach the right format.\n",
    "\n",
    "After that, I make some transformations on the money columns, which are CLAIM AMOUNT and AMOUNT PAID. The objective is to convert both columns to numeric type, so I must stay only with the \"clean\" number and then I can convert it with the TO_NUMERIC function.\n",
    "\n",
    "Then I check again that the data types are right.\n",
    "\n",
    "Last, but not least, I add a new column named CLAIM_STATUS, which indicates CLOSED if the claim has been paid and closed, or OPEN if the claim has not been closed yet.\n"
   ]
  },
  {
   "cell_type": "code",
   "execution_count": 2,
   "id": "31f4150a-b3cc-4645-8a08-b1140cbfd0e1",
   "metadata": {},
   "outputs": [],
   "source": [
    "import pandas as pd\n",
    "import matplotlib.pyplot as plt\n",
    "import seaborn as sns\n",
    "import numpy as np"
   ]
  },
  {
   "cell_type": "code",
   "execution_count": 3,
   "id": "696d0447-0273-4951-a0c3-4ae610643d3f",
   "metadata": {},
   "outputs": [
    {
     "data": {
      "application/com.datacamp.data-table.v1+json": {
       "table": {
        "data": [
         {
          "AMOUNT PAID": "R$15,000.00",
          "AREA": "TAX",
          "CITY SUBSIDIARIES": "RECIFE",
          "CLAIM AMOUNT": "R$50,000.00",
          "CLAIM START DATE": "7/5/2010",
          "CLOSE DATE": "17/3/2016",
          "CONTRACT TYPE": "-",
          "LAWSUIT NUMBER": "0000000-00.2010.0.00.0094",
          "SUPPLIER NAME": null,
          "TYPE OF POSITION": null,
          "index": 0
         },
         {
          "AMOUNT PAID": null,
          "AREA": "TAX",
          "CITY SUBSIDIARIES": "SÃO LUÍS",
          "CLAIM AMOUNT": "R$180,000.00",
          "CLAIM START DATE": "3/3/2011",
          "CLOSE DATE": null,
          "CONTRACT TYPE": "-",
          "LAWSUIT NUMBER": "0000000-00.2011.0.00.0086",
          "SUPPLIER NAME": null,
          "TYPE OF POSITION": null,
          "index": 1
         },
         {
          "AMOUNT PAID": null,
          "AREA": "TAX",
          "CITY SUBSIDIARIES": "SÃO LUÍS",
          "CLAIM AMOUNT": "R$70,000.00",
          "CLAIM START DATE": "17/10/2012",
          "CLOSE DATE": null,
          "CONTRACT TYPE": "-",
          "LAWSUIT NUMBER": "0000000-00.2012.0.00.0092",
          "SUPPLIER NAME": null,
          "TYPE OF POSITION": null,
          "index": 2
         },
         {
          "AMOUNT PAID": "R$72,279.00",
          "AREA": "TAX",
          "CITY SUBSIDIARIES": "FORTALEZA",
          "CLAIM AMOUNT": "R$95,104.00",
          "CLAIM START DATE": "17/12/2013",
          "CLOSE DATE": "2/2/2017",
          "CONTRACT TYPE": "-",
          "LAWSUIT NUMBER": "0000000-00.2013.0.00.0096",
          "SUPPLIER NAME": null,
          "TYPE OF POSITION": null,
          "index": 3
         },
         {
          "AMOUNT PAID": "R$5,800.00",
          "AREA": "TAX",
          "CITY SUBSIDIARIES": "FORTALEZA",
          "CLAIM AMOUNT": "R$29,000.00",
          "CLAIM START DATE": "15/1/2014",
          "CLOSE DATE": "5/12/2014",
          "CONTRACT TYPE": "-",
          "LAWSUIT NUMBER": "0000000-00.2014.0.00.0097",
          "SUPPLIER NAME": null,
          "TYPE OF POSITION": null,
          "index": 4
         }
        ],
        "schema": {
         "fields": [
          {
           "name": "index",
           "type": "integer"
          },
          {
           "name": "LAWSUIT NUMBER",
           "type": "string"
          },
          {
           "name": "AREA",
           "type": "string"
          },
          {
           "name": "CLAIM START DATE",
           "type": "string"
          },
          {
           "name": "CLOSE DATE",
           "type": "string"
          },
          {
           "name": "CLAIM AMOUNT",
           "type": "string"
          },
          {
           "name": "AMOUNT PAID",
           "type": "string"
          },
          {
           "name": "CITY SUBSIDIARIES",
           "type": "string"
          },
          {
           "name": "CONTRACT TYPE",
           "type": "string"
          },
          {
           "name": "SUPPLIER NAME",
           "type": "string"
          },
          {
           "name": "TYPE OF POSITION",
           "type": "string"
          }
         ],
         "pandas_version": "0.20.0",
         "primaryKey": [
          "index"
         ]
        }
       },
       "total_rows": 5,
       "truncation_type": null
      },
      "text/html": [
       "<div>\n",
       "<style scoped>\n",
       "    .dataframe tbody tr th:only-of-type {\n",
       "        vertical-align: middle;\n",
       "    }\n",
       "\n",
       "    .dataframe tbody tr th {\n",
       "        vertical-align: top;\n",
       "    }\n",
       "\n",
       "    .dataframe thead th {\n",
       "        text-align: right;\n",
       "    }\n",
       "</style>\n",
       "<table border=\"1\" class=\"dataframe\">\n",
       "  <thead>\n",
       "    <tr style=\"text-align: right;\">\n",
       "      <th></th>\n",
       "      <th>LAWSUIT NUMBER</th>\n",
       "      <th>AREA</th>\n",
       "      <th>CLAIM START DATE</th>\n",
       "      <th>CLOSE DATE</th>\n",
       "      <th>CLAIM AMOUNT</th>\n",
       "      <th>AMOUNT PAID</th>\n",
       "      <th>CITY SUBSIDIARIES</th>\n",
       "      <th>CONTRACT TYPE</th>\n",
       "      <th>SUPPLIER NAME</th>\n",
       "      <th>TYPE OF POSITION</th>\n",
       "    </tr>\n",
       "  </thead>\n",
       "  <tbody>\n",
       "    <tr>\n",
       "      <th>0</th>\n",
       "      <td>0000000-00.2010.0.00.0094</td>\n",
       "      <td>TAX</td>\n",
       "      <td>7/5/2010</td>\n",
       "      <td>17/3/2016</td>\n",
       "      <td>R$50,000.00</td>\n",
       "      <td>R$15,000.00</td>\n",
       "      <td>RECIFE</td>\n",
       "      <td>-</td>\n",
       "      <td>NaN</td>\n",
       "      <td>NaN</td>\n",
       "    </tr>\n",
       "    <tr>\n",
       "      <th>1</th>\n",
       "      <td>0000000-00.2011.0.00.0086</td>\n",
       "      <td>TAX</td>\n",
       "      <td>3/3/2011</td>\n",
       "      <td>NaN</td>\n",
       "      <td>R$180,000.00</td>\n",
       "      <td>NaN</td>\n",
       "      <td>SÃO LUÍS</td>\n",
       "      <td>-</td>\n",
       "      <td>NaN</td>\n",
       "      <td>NaN</td>\n",
       "    </tr>\n",
       "    <tr>\n",
       "      <th>2</th>\n",
       "      <td>0000000-00.2012.0.00.0092</td>\n",
       "      <td>TAX</td>\n",
       "      <td>17/10/2012</td>\n",
       "      <td>NaN</td>\n",
       "      <td>R$70,000.00</td>\n",
       "      <td>NaN</td>\n",
       "      <td>SÃO LUÍS</td>\n",
       "      <td>-</td>\n",
       "      <td>NaN</td>\n",
       "      <td>NaN</td>\n",
       "    </tr>\n",
       "    <tr>\n",
       "      <th>3</th>\n",
       "      <td>0000000-00.2013.0.00.0096</td>\n",
       "      <td>TAX</td>\n",
       "      <td>17/12/2013</td>\n",
       "      <td>2/2/2017</td>\n",
       "      <td>R$95,104.00</td>\n",
       "      <td>R$72,279.00</td>\n",
       "      <td>FORTALEZA</td>\n",
       "      <td>-</td>\n",
       "      <td>NaN</td>\n",
       "      <td>NaN</td>\n",
       "    </tr>\n",
       "    <tr>\n",
       "      <th>4</th>\n",
       "      <td>0000000-00.2014.0.00.0097</td>\n",
       "      <td>TAX</td>\n",
       "      <td>15/1/2014</td>\n",
       "      <td>5/12/2014</td>\n",
       "      <td>R$29,000.00</td>\n",
       "      <td>R$5,800.00</td>\n",
       "      <td>FORTALEZA</td>\n",
       "      <td>-</td>\n",
       "      <td>NaN</td>\n",
       "      <td>NaN</td>\n",
       "    </tr>\n",
       "  </tbody>\n",
       "</table>\n",
       "</div>"
      ],
      "text/plain": [
       "              LAWSUIT NUMBER AREA CLAIM START DATE CLOSE DATE  CLAIM AMOUNT  \\\n",
       "0  0000000-00.2010.0.00.0094  TAX         7/5/2010  17/3/2016   R$50,000.00   \n",
       "1  0000000-00.2011.0.00.0086  TAX         3/3/2011        NaN  R$180,000.00   \n",
       "2  0000000-00.2012.0.00.0092  TAX       17/10/2012        NaN   R$70,000.00   \n",
       "3  0000000-00.2013.0.00.0096  TAX       17/12/2013   2/2/2017   R$95,104.00   \n",
       "4  0000000-00.2014.0.00.0097  TAX        15/1/2014  5/12/2014   R$29,000.00   \n",
       "\n",
       "   AMOUNT PAID CITY SUBSIDIARIES CONTRACT TYPE SUPPLIER NAME TYPE OF POSITION  \n",
       "0  R$15,000.00            RECIFE             -           NaN              NaN  \n",
       "1          NaN          SÃO LUÍS             -           NaN              NaN  \n",
       "2          NaN          SÃO LUÍS             -           NaN              NaN  \n",
       "3  R$72,279.00         FORTALEZA             -           NaN              NaN  \n",
       "4   R$5,800.00         FORTALEZA             -           NaN              NaN  "
      ]
     },
     "execution_count": 3,
     "metadata": {},
     "output_type": "execute_result"
    }
   ],
   "source": [
    "#Read the CSV file\n",
    "df= pd.read_csv('restuarant_claims.csv')\n",
    "df.head()"
   ]
  },
  {
   "cell_type": "code",
   "execution_count": 4,
   "id": "5de360dd-687b-440e-ac04-f56389adef88",
   "metadata": {},
   "outputs": [
    {
     "data": {
      "text/plain": [
       "LAWSUIT NUMBER       object\n",
       "AREA                 object\n",
       "CLAIM START DATE     object\n",
       "CLOSE DATE           object\n",
       "CLAIM AMOUNT         object\n",
       "AMOUNT PAID          object\n",
       "CITY SUBSIDIARIES    object\n",
       "CONTRACT TYPE        object\n",
       "SUPPLIER NAME        object\n",
       "TYPE OF POSITION     object\n",
       "dtype: object"
      ]
     },
     "execution_count": 4,
     "metadata": {},
     "output_type": "execute_result"
    }
   ],
   "source": [
    "#Explore the data types\n",
    "df.dtypes"
   ]
  },
  {
   "cell_type": "code",
   "execution_count": 5,
   "id": "b8ba2eb8-b864-4921-afca-644433bd9762",
   "metadata": {},
   "outputs": [],
   "source": [
    "#Convert some columns from object to datetime\n",
    "df['CLAIM START DATE']= pd.to_datetime(df['CLAIM START DATE'], dayfirst=True)\n",
    "df['CLOSE DATE']= pd.to_datetime(df['CLOSE DATE'], dayfirst=True)"
   ]
  },
  {
   "cell_type": "code",
   "execution_count": 6,
   "id": "088182b1-dc30-40e4-b4a5-2fefaa4f4087",
   "metadata": {},
   "outputs": [
    {
     "data": {
      "text/plain": [
       "LAWSUIT NUMBER               object\n",
       "AREA                         object\n",
       "CLAIM START DATE     datetime64[ns]\n",
       "CLOSE DATE           datetime64[ns]\n",
       "CLAIM AMOUNT                 object\n",
       "AMOUNT PAID                  object\n",
       "CITY SUBSIDIARIES            object\n",
       "CONTRACT TYPE                object\n",
       "SUPPLIER NAME                object\n",
       "TYPE OF POSITION             object\n",
       "dtype: object"
      ]
     },
     "execution_count": 6,
     "metadata": {},
     "output_type": "execute_result"
    }
   ],
   "source": [
    "df.dtypes"
   ]
  },
  {
   "cell_type": "code",
   "execution_count": 7,
   "id": "8ba818a0-ce82-44bc-9823-4277c1e01bae",
   "metadata": {},
   "outputs": [
    {
     "data": {
      "application/com.datacamp.data-table.v1+json": {
       "table": {
        "data": [
         {
          "AMOUNT PAID": "R$15,000.00",
          "AREA": "TAX",
          "CITY SUBSIDIARIES": "RECIFE",
          "CLAIM AMOUNT": "R$50,000.00",
          "CLAIM START DATE": "2010-05-07T00:00:00.000Z",
          "CLOSE DATE": "2016-03-17T00:00:00.000Z",
          "CONTRACT TYPE": "-",
          "LAWSUIT NUMBER": "0000000-00.2010.0.00.0094",
          "SUPPLIER NAME": null,
          "TYPE OF POSITION": null,
          "index": 0
         },
         {
          "AMOUNT PAID": null,
          "AREA": "TAX",
          "CITY SUBSIDIARIES": "SÃO LUÍS",
          "CLAIM AMOUNT": "R$180,000.00",
          "CLAIM START DATE": "2011-03-03T00:00:00.000Z",
          "CLOSE DATE": null,
          "CONTRACT TYPE": "-",
          "LAWSUIT NUMBER": "0000000-00.2011.0.00.0086",
          "SUPPLIER NAME": null,
          "TYPE OF POSITION": null,
          "index": 1
         },
         {
          "AMOUNT PAID": null,
          "AREA": "TAX",
          "CITY SUBSIDIARIES": "SÃO LUÍS",
          "CLAIM AMOUNT": "R$70,000.00",
          "CLAIM START DATE": "2012-10-17T00:00:00.000Z",
          "CLOSE DATE": null,
          "CONTRACT TYPE": "-",
          "LAWSUIT NUMBER": "0000000-00.2012.0.00.0092",
          "SUPPLIER NAME": null,
          "TYPE OF POSITION": null,
          "index": 2
         },
         {
          "AMOUNT PAID": "R$72,279.00",
          "AREA": "TAX",
          "CITY SUBSIDIARIES": "FORTALEZA",
          "CLAIM AMOUNT": "R$95,104.00",
          "CLAIM START DATE": "2013-12-17T00:00:00.000Z",
          "CLOSE DATE": "2017-02-02T00:00:00.000Z",
          "CONTRACT TYPE": "-",
          "LAWSUIT NUMBER": "0000000-00.2013.0.00.0096",
          "SUPPLIER NAME": null,
          "TYPE OF POSITION": null,
          "index": 3
         },
         {
          "AMOUNT PAID": "R$5,800.00",
          "AREA": "TAX",
          "CITY SUBSIDIARIES": "FORTALEZA",
          "CLAIM AMOUNT": "R$29,000.00",
          "CLAIM START DATE": "2014-01-15T00:00:00.000Z",
          "CLOSE DATE": "2014-12-05T00:00:00.000Z",
          "CONTRACT TYPE": "-",
          "LAWSUIT NUMBER": "0000000-00.2014.0.00.0097",
          "SUPPLIER NAME": null,
          "TYPE OF POSITION": null,
          "index": 4
         }
        ],
        "schema": {
         "fields": [
          {
           "name": "index",
           "type": "integer"
          },
          {
           "name": "LAWSUIT NUMBER",
           "type": "string"
          },
          {
           "name": "AREA",
           "type": "string"
          },
          {
           "name": "CLAIM START DATE",
           "type": "datetime"
          },
          {
           "name": "CLOSE DATE",
           "type": "datetime"
          },
          {
           "name": "CLAIM AMOUNT",
           "type": "string"
          },
          {
           "name": "AMOUNT PAID",
           "type": "string"
          },
          {
           "name": "CITY SUBSIDIARIES",
           "type": "string"
          },
          {
           "name": "CONTRACT TYPE",
           "type": "string"
          },
          {
           "name": "SUPPLIER NAME",
           "type": "string"
          },
          {
           "name": "TYPE OF POSITION",
           "type": "string"
          }
         ],
         "pandas_version": "0.20.0",
         "primaryKey": [
          "index"
         ]
        }
       },
       "total_rows": 5,
       "truncation_type": null
      },
      "text/html": [
       "<div>\n",
       "<style scoped>\n",
       "    .dataframe tbody tr th:only-of-type {\n",
       "        vertical-align: middle;\n",
       "    }\n",
       "\n",
       "    .dataframe tbody tr th {\n",
       "        vertical-align: top;\n",
       "    }\n",
       "\n",
       "    .dataframe thead th {\n",
       "        text-align: right;\n",
       "    }\n",
       "</style>\n",
       "<table border=\"1\" class=\"dataframe\">\n",
       "  <thead>\n",
       "    <tr style=\"text-align: right;\">\n",
       "      <th></th>\n",
       "      <th>LAWSUIT NUMBER</th>\n",
       "      <th>AREA</th>\n",
       "      <th>CLAIM START DATE</th>\n",
       "      <th>CLOSE DATE</th>\n",
       "      <th>CLAIM AMOUNT</th>\n",
       "      <th>AMOUNT PAID</th>\n",
       "      <th>CITY SUBSIDIARIES</th>\n",
       "      <th>CONTRACT TYPE</th>\n",
       "      <th>SUPPLIER NAME</th>\n",
       "      <th>TYPE OF POSITION</th>\n",
       "    </tr>\n",
       "  </thead>\n",
       "  <tbody>\n",
       "    <tr>\n",
       "      <th>0</th>\n",
       "      <td>0000000-00.2010.0.00.0094</td>\n",
       "      <td>TAX</td>\n",
       "      <td>2010-05-07</td>\n",
       "      <td>2016-03-17</td>\n",
       "      <td>R$50,000.00</td>\n",
       "      <td>R$15,000.00</td>\n",
       "      <td>RECIFE</td>\n",
       "      <td>-</td>\n",
       "      <td>NaN</td>\n",
       "      <td>NaN</td>\n",
       "    </tr>\n",
       "    <tr>\n",
       "      <th>1</th>\n",
       "      <td>0000000-00.2011.0.00.0086</td>\n",
       "      <td>TAX</td>\n",
       "      <td>2011-03-03</td>\n",
       "      <td>NaT</td>\n",
       "      <td>R$180,000.00</td>\n",
       "      <td>NaN</td>\n",
       "      <td>SÃO LUÍS</td>\n",
       "      <td>-</td>\n",
       "      <td>NaN</td>\n",
       "      <td>NaN</td>\n",
       "    </tr>\n",
       "    <tr>\n",
       "      <th>2</th>\n",
       "      <td>0000000-00.2012.0.00.0092</td>\n",
       "      <td>TAX</td>\n",
       "      <td>2012-10-17</td>\n",
       "      <td>NaT</td>\n",
       "      <td>R$70,000.00</td>\n",
       "      <td>NaN</td>\n",
       "      <td>SÃO LUÍS</td>\n",
       "      <td>-</td>\n",
       "      <td>NaN</td>\n",
       "      <td>NaN</td>\n",
       "    </tr>\n",
       "    <tr>\n",
       "      <th>3</th>\n",
       "      <td>0000000-00.2013.0.00.0096</td>\n",
       "      <td>TAX</td>\n",
       "      <td>2013-12-17</td>\n",
       "      <td>2017-02-02</td>\n",
       "      <td>R$95,104.00</td>\n",
       "      <td>R$72,279.00</td>\n",
       "      <td>FORTALEZA</td>\n",
       "      <td>-</td>\n",
       "      <td>NaN</td>\n",
       "      <td>NaN</td>\n",
       "    </tr>\n",
       "    <tr>\n",
       "      <th>4</th>\n",
       "      <td>0000000-00.2014.0.00.0097</td>\n",
       "      <td>TAX</td>\n",
       "      <td>2014-01-15</td>\n",
       "      <td>2014-12-05</td>\n",
       "      <td>R$29,000.00</td>\n",
       "      <td>R$5,800.00</td>\n",
       "      <td>FORTALEZA</td>\n",
       "      <td>-</td>\n",
       "      <td>NaN</td>\n",
       "      <td>NaN</td>\n",
       "    </tr>\n",
       "  </tbody>\n",
       "</table>\n",
       "</div>"
      ],
      "text/plain": [
       "              LAWSUIT NUMBER AREA CLAIM START DATE CLOSE DATE  CLAIM AMOUNT  \\\n",
       "0  0000000-00.2010.0.00.0094  TAX       2010-05-07 2016-03-17   R$50,000.00   \n",
       "1  0000000-00.2011.0.00.0086  TAX       2011-03-03        NaT  R$180,000.00   \n",
       "2  0000000-00.2012.0.00.0092  TAX       2012-10-17        NaT   R$70,000.00   \n",
       "3  0000000-00.2013.0.00.0096  TAX       2013-12-17 2017-02-02   R$95,104.00   \n",
       "4  0000000-00.2014.0.00.0097  TAX       2014-01-15 2014-12-05   R$29,000.00   \n",
       "\n",
       "   AMOUNT PAID CITY SUBSIDIARIES CONTRACT TYPE SUPPLIER NAME TYPE OF POSITION  \n",
       "0  R$15,000.00            RECIFE             -           NaN              NaN  \n",
       "1          NaN          SÃO LUÍS             -           NaN              NaN  \n",
       "2          NaN          SÃO LUÍS             -           NaN              NaN  \n",
       "3  R$72,279.00         FORTALEZA             -           NaN              NaN  \n",
       "4   R$5,800.00         FORTALEZA             -           NaN              NaN  "
      ]
     },
     "execution_count": 7,
     "metadata": {},
     "output_type": "execute_result"
    }
   ],
   "source": [
    "df.head()"
   ]
  },
  {
   "cell_type": "code",
   "execution_count": 8,
   "id": "6d8cfc86-357a-4362-abb4-b808ddf3941c",
   "metadata": {},
   "outputs": [],
   "source": [
    "#Convert some columns from object to numeric\n",
    "df['CLAIM AMOUNT']= pd.to_numeric(df['CLAIM AMOUNT'].str.lstrip('R$').str.replace(',',''))\n",
    "df['AMOUNT PAID']= pd.to_numeric(df['AMOUNT PAID'].str.lstrip('R$').str.replace(',',''))"
   ]
  },
  {
   "cell_type": "code",
   "execution_count": 9,
   "id": "735e023a-7df9-4caf-b589-6c38936e0117",
   "metadata": {},
   "outputs": [
    {
     "data": {
      "application/com.datacamp.data-table.v1+json": {
       "table": {
        "data": [
         {
          "AMOUNT PAID": 15000,
          "AREA": "TAX",
          "CITY SUBSIDIARIES": "RECIFE",
          "CLAIM AMOUNT": 50000,
          "CLAIM START DATE": "2010-05-07T00:00:00.000Z",
          "CLOSE DATE": "2016-03-17T00:00:00.000Z",
          "CONTRACT TYPE": "-",
          "LAWSUIT NUMBER": "0000000-00.2010.0.00.0094",
          "SUPPLIER NAME": null,
          "TYPE OF POSITION": null,
          "index": 0
         },
         {
          "AMOUNT PAID": null,
          "AREA": "TAX",
          "CITY SUBSIDIARIES": "SÃO LUÍS",
          "CLAIM AMOUNT": 180000,
          "CLAIM START DATE": "2011-03-03T00:00:00.000Z",
          "CLOSE DATE": null,
          "CONTRACT TYPE": "-",
          "LAWSUIT NUMBER": "0000000-00.2011.0.00.0086",
          "SUPPLIER NAME": null,
          "TYPE OF POSITION": null,
          "index": 1
         },
         {
          "AMOUNT PAID": null,
          "AREA": "TAX",
          "CITY SUBSIDIARIES": "SÃO LUÍS",
          "CLAIM AMOUNT": 70000,
          "CLAIM START DATE": "2012-10-17T00:00:00.000Z",
          "CLOSE DATE": null,
          "CONTRACT TYPE": "-",
          "LAWSUIT NUMBER": "0000000-00.2012.0.00.0092",
          "SUPPLIER NAME": null,
          "TYPE OF POSITION": null,
          "index": 2
         },
         {
          "AMOUNT PAID": 72279,
          "AREA": "TAX",
          "CITY SUBSIDIARIES": "FORTALEZA",
          "CLAIM AMOUNT": 95104,
          "CLAIM START DATE": "2013-12-17T00:00:00.000Z",
          "CLOSE DATE": "2017-02-02T00:00:00.000Z",
          "CONTRACT TYPE": "-",
          "LAWSUIT NUMBER": "0000000-00.2013.0.00.0096",
          "SUPPLIER NAME": null,
          "TYPE OF POSITION": null,
          "index": 3
         },
         {
          "AMOUNT PAID": 5800,
          "AREA": "TAX",
          "CITY SUBSIDIARIES": "FORTALEZA",
          "CLAIM AMOUNT": 29000,
          "CLAIM START DATE": "2014-01-15T00:00:00.000Z",
          "CLOSE DATE": "2014-12-05T00:00:00.000Z",
          "CONTRACT TYPE": "-",
          "LAWSUIT NUMBER": "0000000-00.2014.0.00.0097",
          "SUPPLIER NAME": null,
          "TYPE OF POSITION": null,
          "index": 4
         }
        ],
        "schema": {
         "fields": [
          {
           "name": "index",
           "type": "integer"
          },
          {
           "name": "LAWSUIT NUMBER",
           "type": "string"
          },
          {
           "name": "AREA",
           "type": "string"
          },
          {
           "name": "CLAIM START DATE",
           "type": "datetime"
          },
          {
           "name": "CLOSE DATE",
           "type": "datetime"
          },
          {
           "name": "CLAIM AMOUNT",
           "type": "number"
          },
          {
           "name": "AMOUNT PAID",
           "type": "number"
          },
          {
           "name": "CITY SUBSIDIARIES",
           "type": "string"
          },
          {
           "name": "CONTRACT TYPE",
           "type": "string"
          },
          {
           "name": "SUPPLIER NAME",
           "type": "string"
          },
          {
           "name": "TYPE OF POSITION",
           "type": "string"
          }
         ],
         "pandas_version": "0.20.0",
         "primaryKey": [
          "index"
         ]
        }
       },
       "total_rows": 5,
       "truncation_type": null
      },
      "text/html": [
       "<div>\n",
       "<style scoped>\n",
       "    .dataframe tbody tr th:only-of-type {\n",
       "        vertical-align: middle;\n",
       "    }\n",
       "\n",
       "    .dataframe tbody tr th {\n",
       "        vertical-align: top;\n",
       "    }\n",
       "\n",
       "    .dataframe thead th {\n",
       "        text-align: right;\n",
       "    }\n",
       "</style>\n",
       "<table border=\"1\" class=\"dataframe\">\n",
       "  <thead>\n",
       "    <tr style=\"text-align: right;\">\n",
       "      <th></th>\n",
       "      <th>LAWSUIT NUMBER</th>\n",
       "      <th>AREA</th>\n",
       "      <th>CLAIM START DATE</th>\n",
       "      <th>CLOSE DATE</th>\n",
       "      <th>CLAIM AMOUNT</th>\n",
       "      <th>AMOUNT PAID</th>\n",
       "      <th>CITY SUBSIDIARIES</th>\n",
       "      <th>CONTRACT TYPE</th>\n",
       "      <th>SUPPLIER NAME</th>\n",
       "      <th>TYPE OF POSITION</th>\n",
       "    </tr>\n",
       "  </thead>\n",
       "  <tbody>\n",
       "    <tr>\n",
       "      <th>0</th>\n",
       "      <td>0000000-00.2010.0.00.0094</td>\n",
       "      <td>TAX</td>\n",
       "      <td>2010-05-07</td>\n",
       "      <td>2016-03-17</td>\n",
       "      <td>50000.0</td>\n",
       "      <td>15000.0</td>\n",
       "      <td>RECIFE</td>\n",
       "      <td>-</td>\n",
       "      <td>NaN</td>\n",
       "      <td>NaN</td>\n",
       "    </tr>\n",
       "    <tr>\n",
       "      <th>1</th>\n",
       "      <td>0000000-00.2011.0.00.0086</td>\n",
       "      <td>TAX</td>\n",
       "      <td>2011-03-03</td>\n",
       "      <td>NaT</td>\n",
       "      <td>180000.0</td>\n",
       "      <td>NaN</td>\n",
       "      <td>SÃO LUÍS</td>\n",
       "      <td>-</td>\n",
       "      <td>NaN</td>\n",
       "      <td>NaN</td>\n",
       "    </tr>\n",
       "    <tr>\n",
       "      <th>2</th>\n",
       "      <td>0000000-00.2012.0.00.0092</td>\n",
       "      <td>TAX</td>\n",
       "      <td>2012-10-17</td>\n",
       "      <td>NaT</td>\n",
       "      <td>70000.0</td>\n",
       "      <td>NaN</td>\n",
       "      <td>SÃO LUÍS</td>\n",
       "      <td>-</td>\n",
       "      <td>NaN</td>\n",
       "      <td>NaN</td>\n",
       "    </tr>\n",
       "    <tr>\n",
       "      <th>3</th>\n",
       "      <td>0000000-00.2013.0.00.0096</td>\n",
       "      <td>TAX</td>\n",
       "      <td>2013-12-17</td>\n",
       "      <td>2017-02-02</td>\n",
       "      <td>95104.0</td>\n",
       "      <td>72279.0</td>\n",
       "      <td>FORTALEZA</td>\n",
       "      <td>-</td>\n",
       "      <td>NaN</td>\n",
       "      <td>NaN</td>\n",
       "    </tr>\n",
       "    <tr>\n",
       "      <th>4</th>\n",
       "      <td>0000000-00.2014.0.00.0097</td>\n",
       "      <td>TAX</td>\n",
       "      <td>2014-01-15</td>\n",
       "      <td>2014-12-05</td>\n",
       "      <td>29000.0</td>\n",
       "      <td>5800.0</td>\n",
       "      <td>FORTALEZA</td>\n",
       "      <td>-</td>\n",
       "      <td>NaN</td>\n",
       "      <td>NaN</td>\n",
       "    </tr>\n",
       "  </tbody>\n",
       "</table>\n",
       "</div>"
      ],
      "text/plain": [
       "              LAWSUIT NUMBER AREA CLAIM START DATE CLOSE DATE  CLAIM AMOUNT  \\\n",
       "0  0000000-00.2010.0.00.0094  TAX       2010-05-07 2016-03-17       50000.0   \n",
       "1  0000000-00.2011.0.00.0086  TAX       2011-03-03        NaT      180000.0   \n",
       "2  0000000-00.2012.0.00.0092  TAX       2012-10-17        NaT       70000.0   \n",
       "3  0000000-00.2013.0.00.0096  TAX       2013-12-17 2017-02-02       95104.0   \n",
       "4  0000000-00.2014.0.00.0097  TAX       2014-01-15 2014-12-05       29000.0   \n",
       "\n",
       "   AMOUNT PAID CITY SUBSIDIARIES CONTRACT TYPE SUPPLIER NAME TYPE OF POSITION  \n",
       "0      15000.0            RECIFE             -           NaN              NaN  \n",
       "1          NaN          SÃO LUÍS             -           NaN              NaN  \n",
       "2          NaN          SÃO LUÍS             -           NaN              NaN  \n",
       "3      72279.0         FORTALEZA             -           NaN              NaN  \n",
       "4       5800.0         FORTALEZA             -           NaN              NaN  "
      ]
     },
     "execution_count": 9,
     "metadata": {},
     "output_type": "execute_result"
    }
   ],
   "source": [
    "df.head()"
   ]
  },
  {
   "cell_type": "code",
   "execution_count": 10,
   "id": "1b25307a-ceb4-410d-ae2e-be73da59cd0b",
   "metadata": {},
   "outputs": [
    {
     "name": "stdout",
     "output_type": "stream",
     "text": [
      "<class 'pandas.core.frame.DataFrame'>\n",
      "RangeIndex: 98 entries, 0 to 97\n",
      "Data columns (total 10 columns):\n",
      " #   Column             Non-Null Count  Dtype         \n",
      "---  ------             --------------  -----         \n",
      " 0   LAWSUIT NUMBER     98 non-null     object        \n",
      " 1   AREA               98 non-null     object        \n",
      " 2   CLAIM START DATE   98 non-null     datetime64[ns]\n",
      " 3   CLOSE DATE         14 non-null     datetime64[ns]\n",
      " 4   CLAIM AMOUNT       98 non-null     float64       \n",
      " 5   AMOUNT PAID        14 non-null     float64       \n",
      " 6   CITY SUBSIDIARIES  98 non-null     object        \n",
      " 7   CONTRACT TYPE      98 non-null     object        \n",
      " 8   SUPPLIER NAME      82 non-null     object        \n",
      " 9   TYPE OF POSITION   82 non-null     object        \n",
      "dtypes: datetime64[ns](2), float64(2), object(6)\n",
      "memory usage: 7.8+ KB\n"
     ]
    }
   ],
   "source": [
    "#Check the new data types\n",
    "df.info()"
   ]
  },
  {
   "cell_type": "code",
   "execution_count": 11,
   "id": "665bc4e4-73e4-46bc-81d0-45e4a7e77f71",
   "metadata": {},
   "outputs": [],
   "source": [
    "#Add a new column\n",
    "df['CLAIM_STATUS']= [\"Open\" if s == True else \"Closed\" for s in df['CLOSE DATE'].isnull()]"
   ]
  },
  {
   "cell_type": "code",
   "execution_count": 12,
   "id": "53cb3761-85db-413c-b716-79132210a409",
   "metadata": {},
   "outputs": [
    {
     "data": {
      "application/com.datacamp.data-table.v1+json": {
       "table": {
        "data": [
         {
          "AMOUNT PAID": 15000,
          "AREA": "TAX",
          "CITY SUBSIDIARIES": "RECIFE",
          "CLAIM AMOUNT": 50000,
          "CLAIM START DATE": "2010-05-07T00:00:00.000Z",
          "CLAIM_STATUS": "Closed",
          "CLOSE DATE": "2016-03-17T00:00:00.000Z",
          "CONTRACT TYPE": "-",
          "LAWSUIT NUMBER": "0000000-00.2010.0.00.0094",
          "SUPPLIER NAME": null,
          "TYPE OF POSITION": null,
          "index": 0
         },
         {
          "AMOUNT PAID": null,
          "AREA": "TAX",
          "CITY SUBSIDIARIES": "SÃO LUÍS",
          "CLAIM AMOUNT": 180000,
          "CLAIM START DATE": "2011-03-03T00:00:00.000Z",
          "CLAIM_STATUS": "Open",
          "CLOSE DATE": null,
          "CONTRACT TYPE": "-",
          "LAWSUIT NUMBER": "0000000-00.2011.0.00.0086",
          "SUPPLIER NAME": null,
          "TYPE OF POSITION": null,
          "index": 1
         },
         {
          "AMOUNT PAID": null,
          "AREA": "TAX",
          "CITY SUBSIDIARIES": "SÃO LUÍS",
          "CLAIM AMOUNT": 70000,
          "CLAIM START DATE": "2012-10-17T00:00:00.000Z",
          "CLAIM_STATUS": "Open",
          "CLOSE DATE": null,
          "CONTRACT TYPE": "-",
          "LAWSUIT NUMBER": "0000000-00.2012.0.00.0092",
          "SUPPLIER NAME": null,
          "TYPE OF POSITION": null,
          "index": 2
         },
         {
          "AMOUNT PAID": 72279,
          "AREA": "TAX",
          "CITY SUBSIDIARIES": "FORTALEZA",
          "CLAIM AMOUNT": 95104,
          "CLAIM START DATE": "2013-12-17T00:00:00.000Z",
          "CLAIM_STATUS": "Closed",
          "CLOSE DATE": "2017-02-02T00:00:00.000Z",
          "CONTRACT TYPE": "-",
          "LAWSUIT NUMBER": "0000000-00.2013.0.00.0096",
          "SUPPLIER NAME": null,
          "TYPE OF POSITION": null,
          "index": 3
         },
         {
          "AMOUNT PAID": 5800,
          "AREA": "TAX",
          "CITY SUBSIDIARIES": "FORTALEZA",
          "CLAIM AMOUNT": 29000,
          "CLAIM START DATE": "2014-01-15T00:00:00.000Z",
          "CLAIM_STATUS": "Closed",
          "CLOSE DATE": "2014-12-05T00:00:00.000Z",
          "CONTRACT TYPE": "-",
          "LAWSUIT NUMBER": "0000000-00.2014.0.00.0097",
          "SUPPLIER NAME": null,
          "TYPE OF POSITION": null,
          "index": 4
         }
        ],
        "schema": {
         "fields": [
          {
           "name": "index",
           "type": "integer"
          },
          {
           "name": "LAWSUIT NUMBER",
           "type": "string"
          },
          {
           "name": "AREA",
           "type": "string"
          },
          {
           "name": "CLAIM START DATE",
           "type": "datetime"
          },
          {
           "name": "CLOSE DATE",
           "type": "datetime"
          },
          {
           "name": "CLAIM AMOUNT",
           "type": "number"
          },
          {
           "name": "AMOUNT PAID",
           "type": "number"
          },
          {
           "name": "CITY SUBSIDIARIES",
           "type": "string"
          },
          {
           "name": "CONTRACT TYPE",
           "type": "string"
          },
          {
           "name": "SUPPLIER NAME",
           "type": "string"
          },
          {
           "name": "TYPE OF POSITION",
           "type": "string"
          },
          {
           "name": "CLAIM_STATUS",
           "type": "string"
          }
         ],
         "pandas_version": "0.20.0",
         "primaryKey": [
          "index"
         ]
        }
       },
       "total_rows": 5,
       "truncation_type": null
      },
      "text/html": [
       "<div>\n",
       "<style scoped>\n",
       "    .dataframe tbody tr th:only-of-type {\n",
       "        vertical-align: middle;\n",
       "    }\n",
       "\n",
       "    .dataframe tbody tr th {\n",
       "        vertical-align: top;\n",
       "    }\n",
       "\n",
       "    .dataframe thead th {\n",
       "        text-align: right;\n",
       "    }\n",
       "</style>\n",
       "<table border=\"1\" class=\"dataframe\">\n",
       "  <thead>\n",
       "    <tr style=\"text-align: right;\">\n",
       "      <th></th>\n",
       "      <th>LAWSUIT NUMBER</th>\n",
       "      <th>AREA</th>\n",
       "      <th>CLAIM START DATE</th>\n",
       "      <th>CLOSE DATE</th>\n",
       "      <th>CLAIM AMOUNT</th>\n",
       "      <th>AMOUNT PAID</th>\n",
       "      <th>CITY SUBSIDIARIES</th>\n",
       "      <th>CONTRACT TYPE</th>\n",
       "      <th>SUPPLIER NAME</th>\n",
       "      <th>TYPE OF POSITION</th>\n",
       "      <th>CLAIM_STATUS</th>\n",
       "    </tr>\n",
       "  </thead>\n",
       "  <tbody>\n",
       "    <tr>\n",
       "      <th>0</th>\n",
       "      <td>0000000-00.2010.0.00.0094</td>\n",
       "      <td>TAX</td>\n",
       "      <td>2010-05-07</td>\n",
       "      <td>2016-03-17</td>\n",
       "      <td>50000.0</td>\n",
       "      <td>15000.0</td>\n",
       "      <td>RECIFE</td>\n",
       "      <td>-</td>\n",
       "      <td>NaN</td>\n",
       "      <td>NaN</td>\n",
       "      <td>Closed</td>\n",
       "    </tr>\n",
       "    <tr>\n",
       "      <th>1</th>\n",
       "      <td>0000000-00.2011.0.00.0086</td>\n",
       "      <td>TAX</td>\n",
       "      <td>2011-03-03</td>\n",
       "      <td>NaT</td>\n",
       "      <td>180000.0</td>\n",
       "      <td>NaN</td>\n",
       "      <td>SÃO LUÍS</td>\n",
       "      <td>-</td>\n",
       "      <td>NaN</td>\n",
       "      <td>NaN</td>\n",
       "      <td>Open</td>\n",
       "    </tr>\n",
       "    <tr>\n",
       "      <th>2</th>\n",
       "      <td>0000000-00.2012.0.00.0092</td>\n",
       "      <td>TAX</td>\n",
       "      <td>2012-10-17</td>\n",
       "      <td>NaT</td>\n",
       "      <td>70000.0</td>\n",
       "      <td>NaN</td>\n",
       "      <td>SÃO LUÍS</td>\n",
       "      <td>-</td>\n",
       "      <td>NaN</td>\n",
       "      <td>NaN</td>\n",
       "      <td>Open</td>\n",
       "    </tr>\n",
       "    <tr>\n",
       "      <th>3</th>\n",
       "      <td>0000000-00.2013.0.00.0096</td>\n",
       "      <td>TAX</td>\n",
       "      <td>2013-12-17</td>\n",
       "      <td>2017-02-02</td>\n",
       "      <td>95104.0</td>\n",
       "      <td>72279.0</td>\n",
       "      <td>FORTALEZA</td>\n",
       "      <td>-</td>\n",
       "      <td>NaN</td>\n",
       "      <td>NaN</td>\n",
       "      <td>Closed</td>\n",
       "    </tr>\n",
       "    <tr>\n",
       "      <th>4</th>\n",
       "      <td>0000000-00.2014.0.00.0097</td>\n",
       "      <td>TAX</td>\n",
       "      <td>2014-01-15</td>\n",
       "      <td>2014-12-05</td>\n",
       "      <td>29000.0</td>\n",
       "      <td>5800.0</td>\n",
       "      <td>FORTALEZA</td>\n",
       "      <td>-</td>\n",
       "      <td>NaN</td>\n",
       "      <td>NaN</td>\n",
       "      <td>Closed</td>\n",
       "    </tr>\n",
       "  </tbody>\n",
       "</table>\n",
       "</div>"
      ],
      "text/plain": [
       "              LAWSUIT NUMBER AREA CLAIM START DATE CLOSE DATE  CLAIM AMOUNT  \\\n",
       "0  0000000-00.2010.0.00.0094  TAX       2010-05-07 2016-03-17       50000.0   \n",
       "1  0000000-00.2011.0.00.0086  TAX       2011-03-03        NaT      180000.0   \n",
       "2  0000000-00.2012.0.00.0092  TAX       2012-10-17        NaT       70000.0   \n",
       "3  0000000-00.2013.0.00.0096  TAX       2013-12-17 2017-02-02       95104.0   \n",
       "4  0000000-00.2014.0.00.0097  TAX       2014-01-15 2014-12-05       29000.0   \n",
       "\n",
       "   AMOUNT PAID CITY SUBSIDIARIES CONTRACT TYPE SUPPLIER NAME TYPE OF POSITION  \\\n",
       "0      15000.0            RECIFE             -           NaN              NaN   \n",
       "1          NaN          SÃO LUÍS             -           NaN              NaN   \n",
       "2          NaN          SÃO LUÍS             -           NaN              NaN   \n",
       "3      72279.0         FORTALEZA             -           NaN              NaN   \n",
       "4       5800.0         FORTALEZA             -           NaN              NaN   \n",
       "\n",
       "  CLAIM_STATUS  \n",
       "0       Closed  \n",
       "1         Open  \n",
       "2         Open  \n",
       "3       Closed  \n",
       "4       Closed  "
      ]
     },
     "execution_count": 12,
     "metadata": {},
     "output_type": "execute_result"
    }
   ],
   "source": [
    "df.head()"
   ]
  },
  {
   "cell_type": "markdown",
   "id": "714a7083-7a43-4b0b-8ed4-2675efc87691",
   "metadata": {
    "tags": []
   },
   "source": [
    "### Data Discovery and Visualization\n",
    "Describe what you found in the analysis and how the visualizations answer the customer questions in the project brief. In your description you should:\n",
    "- Include at least two different data visualizations to demonstrate the characteristics of variables\n",
    "- Include at least one data visualization to demonstrate the relationship between two or more variables\n",
    "- Describe how your analysis has answered the business questions in the project brief\n",
    "\n",
    "Firstly, I want to show the evolution over time of both the number of claims and the amount claimed. What the data shows is that 2019 was the year with the largest number of claims (29 claims) and was the year with the highest amount claimed (3,162,139). Both variables show a growing trend over the years. Regarding the closed claims, 2020 was the year with the largest number of closed claims (4), but 2018 was the year with the highest amount paid, since the only closed claim in 2018 was also the most expensive one.\n",
    "\n",
    "About the characteristics of the claims in different locations, the data shows that Sao Luis is the city with the largest number of claims (30). Most of them are from the labor area and are still open. The mean of claims per city is 24.5 and the standard deviation is 4. In every city, there are always more open claims rather than closed ones, and there are also more labor claims, rather than tax ones. \n",
    "The data also shows that Natal is the city with the highest mean of claimed amount (192,628), but with a high dispersion. The overall mean is 122,952. When comparing the mean of claim amounts per city, area and status, the data shows that there is a non-typical value for closed cases in Natal. Effectively, I discover that there is a closed case from Natal whose claim amount is extremely high: 936,540. That’s why I decided to explore the median, which turns out to be much more homogeneous and it’s Recife which has the largest one.\n",
    "Fortaleza is the city the largest number of closed claims (5 claims). Three of them are from the tax area and two from the labor area. On the other hand, Sao Luis is the city with the smallest number of closed cases (2). Natal is the city with the highest mean of paid amount ($128,618) but with a huge dispersion. There is an extreme value which is affecting the mean. If we observe the median instead, there is a more reasonable value: $19,351. In the same way, the overall mean is $63,746 whereas the overall median is $22,000. That is a quite skewed distribution.\n",
    "\n",
    "The distribution of the claim amount variable is very skewed to the right. The mean is 122,952 whereas the median is 58,454. The standard deviation, on the other hand, is 166,433, which shows a large dispersion. At the same time, the boxplot shows many outliers. The histogram shows that most of the claims are between 0 and 100,000. \n",
    "\n",
    "Comparing open and closed claims, there many more open claims that closed ones (84 vs. 14). Most claims which are still open are from the labor area (74). The mean of claimed amount for closed claims is 132,097 whereas for open claims is 121,292. \n",
    "\n",
    "Considering that most of the claims are from the labor area, I decided to explore that group in more detail. It turns out that there are many more claims from suppliers (58) rather than claims from own employees (24). Furthermore, all the closed claims are from suppliers (8).\n",
    "The supplier with largest number of claims is Blue’s Cleaning, with 28. Then it’s Eagle Surveillance with 21 and Oregon with 9. The only supplier with closed claims is Oregon. The position with most claims is Cleaning Assistant, with 24. On the other hand, the labor claims from own employees are mostly from kitchen assistants (13 claims).\n",
    "\n",
    "Finally, I want to analyze if there is a relationship between the claimed amount and the paid amount. At first, I plot a regression model, but it turns out that there is an extreme value which affects the performance of the model. That’s why I decided to delete the extreme value and proceed without it. Now the model fits much better and it shows a positive linear relationship.\n",
    "\n",
    "\n",
    "\n",
    "\n"
   ]
  },
  {
   "cell_type": "markdown",
   "id": "8e738e27-3041-4b2a-aa85-6a39d77d3e5a",
   "metadata": {},
   "source": [
    "## Evolution over time"
   ]
  },
  {
   "cell_type": "markdown",
   "id": "b3479d4b-7bfd-45fd-b656-37e96e56a36f",
   "metadata": {},
   "source": [
    "### Evolution of new claims"
   ]
  },
  {
   "cell_type": "code",
   "execution_count": 13,
   "id": "f9776b67-c2e2-4a05-8a59-dc72e039e16b",
   "metadata": {},
   "outputs": [],
   "source": [
    "new_cases= df.groupby(df['CLAIM START DATE'].dt.year)['LAWSUIT NUMBER'].count()"
   ]
  },
  {
   "cell_type": "code",
   "execution_count": 14,
   "id": "6b145369-7e9c-42f9-8b5c-1330765e74b9",
   "metadata": {},
   "outputs": [
    {
     "data": {
      "text/plain": [
       "CLAIM START DATE\n",
       "2010     1\n",
       "2011     1\n",
       "2012     1\n",
       "2013     1\n",
       "2014     5\n",
       "2015     4\n",
       "2016    10\n",
       "2017     9\n",
       "2018    17\n",
       "2019    29\n",
       "2020    20\n",
       "Name: LAWSUIT NUMBER, dtype: int64"
      ]
     },
     "execution_count": 14,
     "metadata": {},
     "output_type": "execute_result"
    }
   ],
   "source": [
    "new_cases"
   ]
  },
  {
   "cell_type": "code",
   "execution_count": 15,
   "id": "35bdbbb9-7dbf-464d-b7db-1dc4ac216a0a",
   "metadata": {},
   "outputs": [
    {
     "data": {
      "image/png": "[encoded data removed]",
      "text/plain": [
       "<Figure size 360x360 with 1 Axes>"
      ]
     },
     "metadata": {
      "needs_background": "light"
     },
     "output_type": "display_data"
    }
   ],
   "source": [
    "#Number of new claims per year\n",
    "sns.relplot(x= new_cases.index, y= new_cases.values, kind='line')\n",
    "plt.show()"
   ]
  },
  {
   "cell_type": "markdown",
   "id": "de873e59-01d1-47d9-9378-5bc51e531443",
   "metadata": {},
   "source": [
    "### Evolution of claimed amount"
   ]
  },
  {
   "cell_type": "code",
   "execution_count": 16,
   "id": "1141a3cf-7c8e-411f-9371-586714a31093",
   "metadata": {},
   "outputs": [],
   "source": [
    "\n",
    "claim_amount= df.groupby(df['CLAIM START DATE'].dt.year)['CLAIM AMOUNT'].sum()"
   ]
  },
  {
   "cell_type": "code",
   "execution_count": 17,
   "id": "3acab8f6-d91d-40c4-a802-c1355d3199c3",
   "metadata": {},
   "outputs": [
    {
     "data": {
      "text/plain": [
       "CLAIM START DATE\n",
       "2010      50000.0\n",
       "2011     180000.0\n",
       "2012      70000.0\n",
       "2013      95104.0\n",
       "2014     339870.0\n",
       "2015     152542.0\n",
       "2016     774763.0\n",
       "2017    1711742.0\n",
       "2018    2640769.0\n",
       "2019    3162139.0\n",
       "2020    2872370.0\n",
       "Name: CLAIM AMOUNT, dtype: float64"
      ]
     },
     "execution_count": 17,
     "metadata": {},
     "output_type": "execute_result"
    }
   ],
   "source": [
    "claim_amount"
   ]
  },
  {
   "cell_type": "code",
   "execution_count": 18,
   "id": "fbec5fc5-b89c-4685-a78f-0029b3af8c9e",
   "metadata": {},
   "outputs": [
    {
     "data": {
      "image/png": "[encoded data removed]",
      "text/plain": [
       "<Figure size 360x360 with 1 Axes>"
      ]
     },
     "metadata": {
      "needs_background": "light"
     },
     "output_type": "display_data"
    }
   ],
   "source": [
    "#Amount claimed per year\n",
    "sns.relplot(x= claim_amount.index, y= claim_amount.values, kind='line')\n",
    "plt.show()"
   ]
  },
  {
   "cell_type": "markdown",
   "id": "f1d610a1-ad8e-490b-9a6e-7f833684e53c",
   "metadata": {},
   "source": [
    "### Evolution of closed claims"
   ]
  },
  {
   "cell_type": "code",
   "execution_count": 19,
   "id": "4e80c252-9ded-4d11-b4fe-3e952f49ae35",
   "metadata": {},
   "outputs": [],
   "source": [
    "\n",
    "closed_cases= df.groupby(df['CLOSE DATE'].dt.year)['LAWSUIT NUMBER'].count()"
   ]
  },
  {
   "cell_type": "code",
   "execution_count": 20,
   "id": "b12b476a-e0f1-404e-865f-dbbb8342332b",
   "metadata": {},
   "outputs": [
    {
     "data": {
      "text/plain": [
       "CLOSE DATE\n",
       "2014.0    1\n",
       "2015.0    2\n",
       "2016.0    2\n",
       "2017.0    2\n",
       "2018.0    1\n",
       "2019.0    2\n",
       "2020.0    4\n",
       "Name: LAWSUIT NUMBER, dtype: int64"
      ]
     },
     "execution_count": 20,
     "metadata": {},
     "output_type": "execute_result"
    }
   ],
   "source": [
    "closed_cases"
   ]
  },
  {
   "cell_type": "code",
   "execution_count": 21,
   "id": "3b32519e-632a-44b5-8eb0-ed482df31e6e",
   "metadata": {},
   "outputs": [
    {
     "data": {
      "image/png": "[encoded data removed]",
      "text/plain": [
       "<Figure size 360x360 with 1 Axes>"
      ]
     },
     "metadata": {
      "needs_background": "light"
     },
     "output_type": "display_data"
    }
   ],
   "source": [
    "#Closed claims per year\n",
    "sns.relplot(x= closed_cases.index, y= closed_cases.values, kind='line')\n",
    "plt.show()"
   ]
  },
  {
   "cell_type": "markdown",
   "id": "a712682b-3cf8-4099-8ab0-b3f6e5d3f697",
   "metadata": {},
   "source": [
    "### Evolution of amount paid"
   ]
  },
  {
   "cell_type": "code",
   "execution_count": 22,
   "id": "87e15572-73a5-44a1-a317-d52e897c01ad",
   "metadata": {},
   "outputs": [],
   "source": [
    "amount_paid= df.groupby(df['CLOSE DATE'].dt.year)['AMOUNT PAID'].sum()"
   ]
  },
  {
   "cell_type": "code",
   "execution_count": 23,
   "id": "e167eb19-42e2-4423-927f-7666f8bcaa6b",
   "metadata": {},
   "outputs": [
    {
     "data": {
      "text/plain": [
       "CLOSE DATE\n",
       "2014.0      5800.0\n",
       "2015.0    120000.0\n",
       "2016.0     40000.0\n",
       "2017.0     96279.0\n",
       "2018.0    468270.0\n",
       "2019.0     21700.0\n",
       "2020.0    140408.0\n",
       "Name: AMOUNT PAID, dtype: float64"
      ]
     },
     "execution_count": 23,
     "metadata": {},
     "output_type": "execute_result"
    }
   ],
   "source": [
    "amount_paid"
   ]
  },
  {
   "cell_type": "code",
   "execution_count": 24,
   "id": "74f7b320-e736-4681-846d-0d078b830b9e",
   "metadata": {},
   "outputs": [
    {
     "data": {
      "image/png": "[encoded data removed]",
      "text/plain": [
       "<Figure size 360x360 with 1 Axes>"
      ]
     },
     "metadata": {
      "needs_background": "light"
     },
     "output_type": "display_data"
    }
   ],
   "source": [
    "#Amount paid per year\n",
    "sns.relplot(x= amount_paid.index, y= amount_paid.values, kind='line')\n",
    "plt.show()"
   ]
  },
  {
   "cell_type": "markdown",
   "id": "17bdfe64-8199-44b9-8aec-3149f9d4ca82",
   "metadata": {},
   "source": [
    "## Characteristics of the claims in different locations"
   ]
  },
  {
   "cell_type": "markdown",
   "id": "73905555-5e91-476c-8f9e-06ac8faba716",
   "metadata": {},
   "source": [
    "### Number of claims per city"
   ]
  },
  {
   "cell_type": "code",
   "execution_count": 25,
   "id": "e66194a1-8deb-451a-a8cc-e1aeaea5ec5f",
   "metadata": {},
   "outputs": [
    {
     "data": {
      "text/plain": [
       "count     4.000000\n",
       "mean     24.500000\n",
       "std       4.041452\n",
       "min      21.000000\n",
       "25%      21.750000\n",
       "50%      23.500000\n",
       "75%      26.250000\n",
       "max      30.000000\n",
       "Name: CITY SUBSIDIARIES, dtype: float64"
      ]
     },
     "execution_count": 25,
     "metadata": {},
     "output_type": "execute_result"
    }
   ],
   "source": [
    "#Descriptive stats about the distribution of the claims per city\n",
    "df['CITY SUBSIDIARIES'].value_counts().describe()"
   ]
  },
  {
   "cell_type": "code",
   "execution_count": 26,
   "id": "13ae3057-c236-4828-8af7-e83b0e1512a6",
   "metadata": {},
   "outputs": [
    {
     "data": {
      "text/plain": [
       "SÃO LUÍS     30\n",
       "RECIFE       25\n",
       "FORTALEZA    22\n",
       "NATAL        21\n",
       "Name: CITY SUBSIDIARIES, dtype: int64"
      ]
     },
     "execution_count": 26,
     "metadata": {},
     "output_type": "execute_result"
    }
   ],
   "source": [
    "df['CITY SUBSIDIARIES'].value_counts()"
   ]
  },
  {
   "cell_type": "code",
   "execution_count": 27,
   "id": "ea3f89c7-0a52-4165-8fd6-393761844d18",
   "metadata": {},
   "outputs": [
    {
     "data": {
      "image/png": "[encoded data removed]",
      "text/plain": [
       "<Figure size 360x360 with 1 Axes>"
      ]
     },
     "metadata": {
      "needs_background": "light"
     },
     "output_type": "display_data"
    }
   ],
   "source": [
    "#Number of claims per city\n",
    "sns.catplot(x='CITY SUBSIDIARIES', data=df, kind= 'count')\n",
    "plt.show()"
   ]
  },
  {
   "cell_type": "code",
   "execution_count": 28,
   "id": "c5c4cad1-b418-4a79-b935-0893adb826fb",
   "metadata": {},
   "outputs": [
    {
     "data": {
      "image/png": "[encoded data removed]",
      "text/plain": [
       "<Figure size 1510x360 with 4 Axes>"
      ]
     },
     "metadata": {
      "needs_background": "light"
     },
     "output_type": "display_data"
    }
   ],
   "source": [
    "#Number of claims per city, area and status\n",
    "sns.catplot(col='CITY SUBSIDIARIES', hue= 'AREA', data=df, kind= 'count', x= 'CLAIM_STATUS')\n",
    "plt.show()"
   ]
  },
  {
   "cell_type": "code",
   "execution_count": 29,
   "id": "8cdf7769-9478-4b8a-9146-635d4553bdd5",
   "metadata": {},
   "outputs": [
    {
     "data": {
      "application/com.datacamp.data-table.v1+json": {
       "table": {
        "data": [
         {
          "AREA": "LABOR",
          "All": 8,
          "CLAIM_STATUS": "Closed",
          "FORTALEZA": 2,
          "NATAL": 2,
          "RECIFE": 2,
          "SÃO LUÍS": 2
         },
         {
          "AREA": "LABOR",
          "All": 74,
          "CLAIM_STATUS": "Open",
          "FORTALEZA": 17,
          "NATAL": 17,
          "RECIFE": 20,
          "SÃO LUÍS": 20
         },
         {
          "AREA": "TAX",
          "All": 6,
          "CLAIM_STATUS": "Closed",
          "FORTALEZA": 3,
          "NATAL": 2,
          "RECIFE": 1,
          "SÃO LUÍS": null
         },
         {
          "AREA": "TAX",
          "All": 10,
          "CLAIM_STATUS": "Open",
          "FORTALEZA": null,
          "NATAL": null,
          "RECIFE": 2,
          "SÃO LUÍS": 8
         },
         {
          "AREA": "All",
          "All": 98,
          "CLAIM_STATUS": "",
          "FORTALEZA": 22,
          "NATAL": 21,
          "RECIFE": 25,
          "SÃO LUÍS": 30
         }
        ],
        "schema": {
         "fields": [
          {
           "name": "AREA",
           "type": "string"
          },
          {
           "name": "CLAIM_STATUS",
           "type": "string"
          },
          {
           "name": "FORTALEZA",
           "type": "number"
          },
          {
           "name": "NATAL",
           "type": "number"
          },
          {
           "name": "RECIFE",
           "type": "number"
          },
          {
           "name": "SÃO LUÍS",
           "type": "number"
          },
          {
           "name": "All",
           "type": "integer"
          }
         ],
         "pandas_version": "0.20.0",
         "primaryKey": [
          "AREA",
          "CLAIM_STATUS"
         ]
        }
       },
       "total_rows": 5,
       "truncation_type": null
      },
      "text/html": [
       "<div>\n",
       "<style scoped>\n",
       "    .dataframe tbody tr th:only-of-type {\n",
       "        vertical-align: middle;\n",
       "    }\n",
       "\n",
       "    .dataframe tbody tr th {\n",
       "        vertical-align: top;\n",
       "    }\n",
       "\n",
       "    .dataframe thead th {\n",
       "        text-align: right;\n",
       "    }\n",
       "</style>\n",
       "<table border=\"1\" class=\"dataframe\">\n",
       "  <thead>\n",
       "    <tr style=\"text-align: right;\">\n",
       "      <th></th>\n",
       "      <th>CITY SUBSIDIARIES</th>\n",
       "      <th>FORTALEZA</th>\n",
       "      <th>NATAL</th>\n",
       "      <th>RECIFE</th>\n",
       "      <th>SÃO LUÍS</th>\n",
       "      <th>All</th>\n",
       "    </tr>\n",
       "    <tr>\n",
       "      <th>AREA</th>\n",
       "      <th>CLAIM_STATUS</th>\n",
       "      <th></th>\n",
       "      <th></th>\n",
       "      <th></th>\n",
       "      <th></th>\n",
       "      <th></th>\n",
       "    </tr>\n",
       "  </thead>\n",
       "  <tbody>\n",
       "    <tr>\n",
       "      <th rowspan=\"2\" valign=\"top\">LABOR</th>\n",
       "      <th>Closed</th>\n",
       "      <td>2.0</td>\n",
       "      <td>2.0</td>\n",
       "      <td>2.0</td>\n",
       "      <td>2.0</td>\n",
       "      <td>8</td>\n",
       "    </tr>\n",
       "    <tr>\n",
       "      <th>Open</th>\n",
       "      <td>17.0</td>\n",
       "      <td>17.0</td>\n",
       "      <td>20.0</td>\n",
       "      <td>20.0</td>\n",
       "      <td>74</td>\n",
       "    </tr>\n",
       "    <tr>\n",
       "      <th rowspan=\"2\" valign=\"top\">TAX</th>\n",
       "      <th>Closed</th>\n",
       "      <td>3.0</td>\n",
       "      <td>2.0</td>\n",
       "      <td>1.0</td>\n",
       "      <td>NaN</td>\n",
       "      <td>6</td>\n",
       "    </tr>\n",
       "    <tr>\n",
       "      <th>Open</th>\n",
       "      <td>NaN</td>\n",
       "      <td>NaN</td>\n",
       "      <td>2.0</td>\n",
       "      <td>8.0</td>\n",
       "      <td>10</td>\n",
       "    </tr>\n",
       "    <tr>\n",
       "      <th>All</th>\n",
       "      <th></th>\n",
       "      <td>22.0</td>\n",
       "      <td>21.0</td>\n",
       "      <td>25.0</td>\n",
       "      <td>30.0</td>\n",
       "      <td>98</td>\n",
       "    </tr>\n",
       "  </tbody>\n",
       "</table>\n",
       "</div>"
      ],
      "text/plain": [
       "CITY SUBSIDIARIES   FORTALEZA  NATAL  RECIFE  SÃO LUÍS  All\n",
       "AREA  CLAIM_STATUS                                         \n",
       "LABOR Closed              2.0    2.0     2.0       2.0    8\n",
       "      Open               17.0   17.0    20.0      20.0   74\n",
       "TAX   Closed              3.0    2.0     1.0       NaN    6\n",
       "      Open                NaN    NaN     2.0       8.0   10\n",
       "All                      22.0   21.0    25.0      30.0   98"
      ]
     },
     "execution_count": 29,
     "metadata": {},
     "output_type": "execute_result"
    }
   ],
   "source": [
    "#Number of claims per city, area and status\n",
    "pd.pivot_table(index=['AREA', 'CLAIM_STATUS'], columns='CITY SUBSIDIARIES', aggfunc= 'count', data= df, values= 'LAWSUIT NUMBER', margins= True)"
   ]
  },
  {
   "cell_type": "markdown",
   "id": "c677ca22-cc31-4c2c-8375-4f832fa7e4c6",
   "metadata": {},
   "source": [
    "### Claimed amount per city"
   ]
  },
  {
   "cell_type": "code",
   "execution_count": 30,
   "id": "6c872e86-73c2-4900-9c18-a77afb86c9af",
   "metadata": {},
   "outputs": [
    {
     "data": {
      "image/png": "[encoded data removed]",
      "text/plain": [
       "<Figure size 360x360 with 1 Axes>"
      ]
     },
     "metadata": {
      "needs_background": "light"
     },
     "output_type": "display_data"
    }
   ],
   "source": [
    "#Mean of claimed amount per city\n",
    "sns.catplot(x= 'CITY SUBSIDIARIES', y = 'CLAIM AMOUNT', data= df, kind= 'bar')\n",
    "plt.show()"
   ]
  },
  {
   "cell_type": "code",
   "execution_count": 31,
   "id": "61a1a750-0def-43a4-8244-ef582f8c70ad",
   "metadata": {},
   "outputs": [
    {
     "data": {
      "image/png": "[encoded data removed]",
      "text/plain": [
       "<Figure size 430x360 with 1 Axes>"
      ]
     },
     "metadata": {
      "needs_background": "light"
     },
     "output_type": "display_data"
    }
   ],
   "source": [
    "#Distribution of claim amount along cities\n",
    "sns.catplot(x= 'CITY SUBSIDIARIES', y= 'CLAIM AMOUNT', kind=\"swarm\", data= df, hue='AREA')\n",
    "plt.show()"
   ]
  },
  {
   "cell_type": "code",
   "execution_count": 32,
   "id": "4dcff90d-a64e-4297-a6fd-54669da559ec",
   "metadata": {},
   "outputs": [
    {
     "data": {
      "image/png": "[encoded data removed]",
      "text/plain": [
       "<Figure size 360x360 with 1 Axes>"
      ]
     },
     "metadata": {
      "needs_background": "light"
     },
     "output_type": "display_data"
    }
   ],
   "source": [
    "#Distribution of claimed amount along cities\n",
    "sns.catplot(x= 'CITY SUBSIDIARIES', y= 'CLAIM AMOUNT', kind= \"box\", data= df)\n",
    "plt.show()"
   ]
  },
  {
   "cell_type": "code",
   "execution_count": 33,
   "id": "e139ce66-c981-40cc-a175-951075c0d4d3",
   "metadata": {},
   "outputs": [
    {
     "data": {
      "image/png": "[encoded data removed]",
      "text/plain": [
       "<Figure size 1510x360 with 4 Axes>"
      ]
     },
     "metadata": {
      "needs_background": "light"
     },
     "output_type": "display_data"
    }
   ],
   "source": [
    "#Mean of claimed amount per city, area and status\n",
    "sns.catplot(col= 'CITY SUBSIDIARIES', y = 'CLAIM AMOUNT', hue= 'AREA', data= df, x='CLAIM_STATUS', kind= 'bar')\n",
    "plt.show()"
   ]
  },
  {
   "cell_type": "code",
   "execution_count": 75,
   "id": "b67aac99-1c26-445c-a9c0-591d170ba673",
   "metadata": {},
   "outputs": [
    {
     "data": {
      "application/com.datacamp.data-table.v1+json": {
       "table": {
        "data": [
         {
          "AMOUNT PAID": 468270,
          "AREA": "TAX",
          "CITY SUBSIDIARIES": "NATAL",
          "CLAIM AMOUNT": 936540,
          "CLAIM START DATE": "2018-07-20T00:00:00.000Z",
          "CLAIM_STATUS": "Closed",
          "CLOSE DATE": "2018-12-20T00:00:00.000Z",
          "CONTRACT TYPE": "-",
          "LAWSUIT NUMBER": "0000000-00.2018.0.00.0098",
          "SUPPLIER NAME": null,
          "TYPE OF POSITION": null,
          "index": 40
         }
        ],
        "schema": {
         "fields": [
          {
           "name": "index",
           "type": "integer"
          },
          {
           "name": "LAWSUIT NUMBER",
           "type": "string"
          },
          {
           "name": "AREA",
           "type": "string"
          },
          {
           "name": "CLAIM START DATE",
           "type": "datetime"
          },
          {
           "name": "CLOSE DATE",
           "type": "datetime"
          },
          {
           "name": "CLAIM AMOUNT",
           "type": "number"
          },
          {
           "name": "AMOUNT PAID",
           "type": "number"
          },
          {
           "name": "CITY SUBSIDIARIES",
           "type": "string"
          },
          {
           "name": "CONTRACT TYPE",
           "type": "string"
          },
          {
           "name": "SUPPLIER NAME",
           "type": "string"
          },
          {
           "name": "TYPE OF POSITION",
           "type": "string"
          },
          {
           "name": "CLAIM_STATUS",
           "type": "string"
          }
         ],
         "pandas_version": "0.20.0",
         "primaryKey": [
          "index"
         ]
        }
       },
       "total_rows": 1,
       "truncation_type": null
      },
      "text/html": [
       "<div>\n",
       "<style scoped>\n",
       "    .dataframe tbody tr th:only-of-type {\n",
       "        vertical-align: middle;\n",
       "    }\n",
       "\n",
       "    .dataframe tbody tr th {\n",
       "        vertical-align: top;\n",
       "    }\n",
       "\n",
       "    .dataframe thead th {\n",
       "        text-align: right;\n",
       "    }\n",
       "</style>\n",
       "<table border=\"1\" class=\"dataframe\">\n",
       "  <thead>\n",
       "    <tr style=\"text-align: right;\">\n",
       "      <th></th>\n",
       "      <th>LAWSUIT NUMBER</th>\n",
       "      <th>AREA</th>\n",
       "      <th>CLAIM START DATE</th>\n",
       "      <th>CLOSE DATE</th>\n",
       "      <th>CLAIM AMOUNT</th>\n",
       "      <th>AMOUNT PAID</th>\n",
       "      <th>CITY SUBSIDIARIES</th>\n",
       "      <th>CONTRACT TYPE</th>\n",
       "      <th>SUPPLIER NAME</th>\n",
       "      <th>TYPE OF POSITION</th>\n",
       "      <th>CLAIM_STATUS</th>\n",
       "    </tr>\n",
       "  </thead>\n",
       "  <tbody>\n",
       "    <tr>\n",
       "      <th>40</th>\n",
       "      <td>0000000-00.2018.0.00.0098</td>\n",
       "      <td>TAX</td>\n",
       "      <td>2018-07-20</td>\n",
       "      <td>2018-12-20</td>\n",
       "      <td>936540.0</td>\n",
       "      <td>468270.0</td>\n",
       "      <td>NATAL</td>\n",
       "      <td>-</td>\n",
       "      <td>NaN</td>\n",
       "      <td>NaN</td>\n",
       "      <td>Closed</td>\n",
       "    </tr>\n",
       "  </tbody>\n",
       "</table>\n",
       "</div>"
      ],
      "text/plain": [
       "               LAWSUIT NUMBER AREA CLAIM START DATE CLOSE DATE  CLAIM AMOUNT  \\\n",
       "40  0000000-00.2018.0.00.0098  TAX       2018-07-20 2018-12-20      936540.0   \n",
       "\n",
       "    AMOUNT PAID CITY SUBSIDIARIES CONTRACT TYPE SUPPLIER NAME  \\\n",
       "40     468270.0             NATAL             -           NaN   \n",
       "\n",
       "   TYPE OF POSITION CLAIM_STATUS  \n",
       "40              NaN       Closed  "
      ]
     },
     "execution_count": 75,
     "metadata": {},
     "output_type": "execute_result"
    }
   ],
   "source": [
    "extreme= df[(df['CITY SUBSIDIARIES'] == 'NATAL') & (df['CLAIM_STATUS'] == 'Closed')]\n",
    "extreme[extreme['CLAIM AMOUNT'] == extreme['CLAIM AMOUNT'].max()]"
   ]
  },
  {
   "cell_type": "code",
   "execution_count": 76,
   "id": "c1944261-8bd4-4dd5-b4c8-7e8a268196e7",
   "metadata": {},
   "outputs": [
    {
     "data": {
      "text/plain": [
       "CITY SUBSIDIARIES\n",
       "FORTALEZA    52844.5\n",
       "NATAL        60000.0\n",
       "RECIFE       70000.0\n",
       "SÃO LUÍS     52436.0\n",
       "Name: CLAIM AMOUNT, dtype: float64"
      ]
     },
     "execution_count": 76,
     "metadata": {},
     "output_type": "execute_result"
    }
   ],
   "source": [
    "#Median of claimed amount per city\n",
    "df.groupby('CITY SUBSIDIARIES')['CLAIM AMOUNT'].median()"
   ]
  },
  {
   "cell_type": "code",
   "execution_count": 34,
   "id": "24dec351-f814-4d29-a8f4-0b34540310b7",
   "metadata": {},
   "outputs": [
    {
     "data": {
      "application/com.datacamp.data-table.v1+json": {
       "table": {
        "data": [
         {
          "AREA": "LABOR",
          "All": 81193.25,
          "CLAIM_STATUS": "Closed",
          "FORTALEZA": 78345.5,
          "NATAL": 75000,
          "RECIFE": 87676.5,
          "SÃO LUÍS": 83751
         },
         {
          "AREA": "LABOR",
          "All": 122664.3243243243,
          "CLAIM_STATUS": "Open",
          "FORTALEZA": 88983,
          "NATAL": 170008.3529411765,
          "RECIFE": 114918.6,
          "SÃO LUÍS": 118796.75
         },
         {
          "AREA": "TAX",
          "All": 201859.1666666667,
          "CLAIM_STATUS": "Closed",
          "FORTALEZA": 52034.6666666667,
          "NATAL": 502525.5,
          "RECIFE": 50000,
          "SÃO LUÍS": null
         },
         {
          "AREA": "TAX",
          "All": 111143.8,
          "CLAIM_STATUS": "Open",
          "FORTALEZA": null,
          "NATAL": null,
          "RECIFE": 82324.5,
          "SÃO LUÍS": 118348.625
         },
         {
          "AREA": "All",
          "All": 122952.0306122449,
          "CLAIM_STATUS": "",
          "FORTALEZA": 82977.5454545455,
          "NATAL": 192628.2380952381,
          "RECIFE": 107534.96,
          "SÃO LUÍS": 116340.8666666667
         }
        ],
        "schema": {
         "fields": [
          {
           "name": "AREA",
           "type": "string"
          },
          {
           "name": "CLAIM_STATUS",
           "type": "string"
          },
          {
           "name": "FORTALEZA",
           "type": "number"
          },
          {
           "name": "NATAL",
           "type": "number"
          },
          {
           "name": "RECIFE",
           "type": "number"
          },
          {
           "name": "SÃO LUÍS",
           "type": "number"
          },
          {
           "name": "All",
           "type": "number"
          }
         ],
         "pandas_version": "0.20.0",
         "primaryKey": [
          "AREA",
          "CLAIM_STATUS"
         ]
        }
       },
       "total_rows": 5,
       "truncation_type": null
      },
      "text/html": [
       "<div>\n",
       "<style scoped>\n",
       "    .dataframe tbody tr th:only-of-type {\n",
       "        vertical-align: middle;\n",
       "    }\n",
       "\n",
       "    .dataframe tbody tr th {\n",
       "        vertical-align: top;\n",
       "    }\n",
       "\n",
       "    .dataframe thead th {\n",
       "        text-align: right;\n",
       "    }\n",
       "</style>\n",
       "<table border=\"1\" class=\"dataframe\">\n",
       "  <thead>\n",
       "    <tr style=\"text-align: right;\">\n",
       "      <th></th>\n",
       "      <th>CITY SUBSIDIARIES</th>\n",
       "      <th>FORTALEZA</th>\n",
       "      <th>NATAL</th>\n",
       "      <th>RECIFE</th>\n",
       "      <th>SÃO LUÍS</th>\n",
       "      <th>All</th>\n",
       "    </tr>\n",
       "    <tr>\n",
       "      <th>AREA</th>\n",
       "      <th>CLAIM_STATUS</th>\n",
       "      <th></th>\n",
       "      <th></th>\n",
       "      <th></th>\n",
       "      <th></th>\n",
       "      <th></th>\n",
       "    </tr>\n",
       "  </thead>\n",
       "  <tbody>\n",
       "    <tr>\n",
       "      <th rowspan=\"2\" valign=\"top\">LABOR</th>\n",
       "      <th>Closed</th>\n",
       "      <td>78345.500000</td>\n",
       "      <td>75000.000000</td>\n",
       "      <td>87676.50</td>\n",
       "      <td>83751.000000</td>\n",
       "      <td>81193.250000</td>\n",
       "    </tr>\n",
       "    <tr>\n",
       "      <th>Open</th>\n",
       "      <td>88983.000000</td>\n",
       "      <td>170008.352941</td>\n",
       "      <td>114918.60</td>\n",
       "      <td>118796.750000</td>\n",
       "      <td>122664.324324</td>\n",
       "    </tr>\n",
       "    <tr>\n",
       "      <th rowspan=\"2\" valign=\"top\">TAX</th>\n",
       "      <th>Closed</th>\n",
       "      <td>52034.666667</td>\n",
       "      <td>502525.500000</td>\n",
       "      <td>50000.00</td>\n",
       "      <td>NaN</td>\n",
       "      <td>201859.166667</td>\n",
       "    </tr>\n",
       "    <tr>\n",
       "      <th>Open</th>\n",
       "      <td>NaN</td>\n",
       "      <td>NaN</td>\n",
       "      <td>82324.50</td>\n",
       "      <td>118348.625000</td>\n",
       "      <td>111143.800000</td>\n",
       "    </tr>\n",
       "    <tr>\n",
       "      <th>All</th>\n",
       "      <th></th>\n",
       "      <td>82977.545455</td>\n",
       "      <td>192628.238095</td>\n",
       "      <td>107534.96</td>\n",
       "      <td>116340.866667</td>\n",
       "      <td>122952.030612</td>\n",
       "    </tr>\n",
       "  </tbody>\n",
       "</table>\n",
       "</div>"
      ],
      "text/plain": [
       "CITY SUBSIDIARIES      FORTALEZA          NATAL     RECIFE       SÃO LUÍS  \\\n",
       "AREA  CLAIM_STATUS                                                          \n",
       "LABOR Closed        78345.500000   75000.000000   87676.50   83751.000000   \n",
       "      Open          88983.000000  170008.352941  114918.60  118796.750000   \n",
       "TAX   Closed        52034.666667  502525.500000   50000.00            NaN   \n",
       "      Open                   NaN            NaN   82324.50  118348.625000   \n",
       "All                 82977.545455  192628.238095  107534.96  116340.866667   \n",
       "\n",
       "CITY SUBSIDIARIES             All  \n",
       "AREA  CLAIM_STATUS                 \n",
       "LABOR Closed         81193.250000  \n",
       "      Open          122664.324324  \n",
       "TAX   Closed        201859.166667  \n",
       "      Open          111143.800000  \n",
       "All                 122952.030612  "
      ]
     },
     "execution_count": 34,
     "metadata": {},
     "output_type": "execute_result"
    }
   ],
   "source": [
    "#Mean of claimed amount per city, area and status\n",
    "pd.pivot_table(index=['AREA', 'CLAIM_STATUS'], columns='CITY SUBSIDIARIES', aggfunc= np.mean, data= df, values= 'CLAIM AMOUNT', margins= True)"
   ]
  },
  {
   "cell_type": "markdown",
   "id": "6eaad06c-e888-4f27-9d52-39915506b88d",
   "metadata": {},
   "source": [
    "### Closed claims per city"
   ]
  },
  {
   "cell_type": "code",
   "execution_count": 35,
   "id": "4c7e6dc1-3037-42c1-aed1-67814267213c",
   "metadata": {},
   "outputs": [
    {
     "data": {
      "application/com.datacamp.data-table.v1+json": {
       "table": {
        "data": [
         {
          "AMOUNT PAID": 15000,
          "AREA": "TAX",
          "CITY SUBSIDIARIES": "RECIFE",
          "CLAIM AMOUNT": 50000,
          "CLAIM START DATE": "2010-05-07T00:00:00.000Z",
          "CLAIM_STATUS": "Closed",
          "CLOSE DATE": "2016-03-17T00:00:00.000Z",
          "CONTRACT TYPE": "-",
          "LAWSUIT NUMBER": "0000000-00.2010.0.00.0094",
          "SUPPLIER NAME": null,
          "TYPE OF POSITION": null,
          "index": 0
         },
         {
          "AMOUNT PAID": 72279,
          "AREA": "TAX",
          "CITY SUBSIDIARIES": "FORTALEZA",
          "CLAIM AMOUNT": 95104,
          "CLAIM START DATE": "2013-12-17T00:00:00.000Z",
          "CLAIM_STATUS": "Closed",
          "CLOSE DATE": "2017-02-02T00:00:00.000Z",
          "CONTRACT TYPE": "-",
          "LAWSUIT NUMBER": "0000000-00.2013.0.00.0096",
          "SUPPLIER NAME": null,
          "TYPE OF POSITION": null,
          "index": 3
         },
         {
          "AMOUNT PAID": 5800,
          "AREA": "TAX",
          "CITY SUBSIDIARIES": "FORTALEZA",
          "CLAIM AMOUNT": 29000,
          "CLAIM START DATE": "2014-01-15T00:00:00.000Z",
          "CLAIM_STATUS": "Closed",
          "CLOSE DATE": "2014-12-05T00:00:00.000Z",
          "CONTRACT TYPE": "-",
          "LAWSUIT NUMBER": "0000000-00.2014.0.00.0097",
          "SUPPLIER NAME": null,
          "TYPE OF POSITION": null,
          "index": 4
         },
         {
          "AMOUNT PAID": 112500,
          "AREA": "LABOR",
          "CITY SUBSIDIARIES": "FORTALEZA",
          "CLAIM AMOUNT": 150000,
          "CLAIM START DATE": "2014-02-02T00:00:00.000Z",
          "CLAIM_STATUS": "Closed",
          "CLOSE DATE": "2015-03-09T00:00:00.000Z",
          "CONTRACT TYPE": "THIRD",
          "LAWSUIT NUMBER": "0000000-00.2014.0.00.0077",
          "SUPPLIER NAME": "OREGON",
          "TYPE OF POSITION": "TELEMARKETING ATTENDANT",
          "index": 5
         },
         {
          "AMOUNT PAID": 7500,
          "AREA": "LABOR",
          "CITY SUBSIDIARIES": "NATAL",
          "CLAIM AMOUNT": 50000,
          "CLAIM START DATE": "2014-07-22T00:00:00.000Z",
          "CLAIM_STATUS": "Closed",
          "CLOSE DATE": "2015-04-08T00:00:00.000Z",
          "CONTRACT TYPE": "THIRD",
          "LAWSUIT NUMBER": "0000000-00.2014.0.00.0076",
          "SUPPLIER NAME": "OREGON",
          "TYPE OF POSITION": "TELEMARKETING ATTENDANT",
          "index": 6
         }
        ],
        "schema": {
         "fields": [
          {
           "name": "index",
           "type": "integer"
          },
          {
           "name": "LAWSUIT NUMBER",
           "type": "string"
          },
          {
           "name": "AREA",
           "type": "string"
          },
          {
           "name": "CLAIM START DATE",
           "type": "datetime"
          },
          {
           "name": "CLOSE DATE",
           "type": "datetime"
          },
          {
           "name": "CLAIM AMOUNT",
           "type": "number"
          },
          {
           "name": "AMOUNT PAID",
           "type": "number"
          },
          {
           "name": "CITY SUBSIDIARIES",
           "type": "string"
          },
          {
           "name": "CONTRACT TYPE",
           "type": "string"
          },
          {
           "name": "SUPPLIER NAME",
           "type": "string"
          },
          {
           "name": "TYPE OF POSITION",
           "type": "string"
          },
          {
           "name": "CLAIM_STATUS",
           "type": "string"
          }
         ],
         "pandas_version": "0.20.0",
         "primaryKey": [
          "index"
         ]
        }
       },
       "total_rows": 5,
       "truncation_type": null
      },
      "text/html": [
       "<div>\n",
       "<style scoped>\n",
       "    .dataframe tbody tr th:only-of-type {\n",
       "        vertical-align: middle;\n",
       "    }\n",
       "\n",
       "    .dataframe tbody tr th {\n",
       "        vertical-align: top;\n",
       "    }\n",
       "\n",
       "    .dataframe thead th {\n",
       "        text-align: right;\n",
       "    }\n",
       "</style>\n",
       "<table border=\"1\" class=\"dataframe\">\n",
       "  <thead>\n",
       "    <tr style=\"text-align: right;\">\n",
       "      <th></th>\n",
       "      <th>LAWSUIT NUMBER</th>\n",
       "      <th>AREA</th>\n",
       "      <th>CLAIM START DATE</th>\n",
       "      <th>CLOSE DATE</th>\n",
       "      <th>CLAIM AMOUNT</th>\n",
       "      <th>AMOUNT PAID</th>\n",
       "      <th>CITY SUBSIDIARIES</th>\n",
       "      <th>CONTRACT TYPE</th>\n",
       "      <th>SUPPLIER NAME</th>\n",
       "      <th>TYPE OF POSITION</th>\n",
       "      <th>CLAIM_STATUS</th>\n",
       "    </tr>\n",
       "  </thead>\n",
       "  <tbody>\n",
       "    <tr>\n",
       "      <th>0</th>\n",
       "      <td>0000000-00.2010.0.00.0094</td>\n",
       "      <td>TAX</td>\n",
       "      <td>2010-05-07</td>\n",
       "      <td>2016-03-17</td>\n",
       "      <td>50000.0</td>\n",
       "      <td>15000.0</td>\n",
       "      <td>RECIFE</td>\n",
       "      <td>-</td>\n",
       "      <td>NaN</td>\n",
       "      <td>NaN</td>\n",
       "      <td>Closed</td>\n",
       "    </tr>\n",
       "    <tr>\n",
       "      <th>3</th>\n",
       "      <td>0000000-00.2013.0.00.0096</td>\n",
       "      <td>TAX</td>\n",
       "      <td>2013-12-17</td>\n",
       "      <td>2017-02-02</td>\n",
       "      <td>95104.0</td>\n",
       "      <td>72279.0</td>\n",
       "      <td>FORTALEZA</td>\n",
       "      <td>-</td>\n",
       "      <td>NaN</td>\n",
       "      <td>NaN</td>\n",
       "      <td>Closed</td>\n",
       "    </tr>\n",
       "    <tr>\n",
       "      <th>4</th>\n",
       "      <td>0000000-00.2014.0.00.0097</td>\n",
       "      <td>TAX</td>\n",
       "      <td>2014-01-15</td>\n",
       "      <td>2014-12-05</td>\n",
       "      <td>29000.0</td>\n",
       "      <td>5800.0</td>\n",
       "      <td>FORTALEZA</td>\n",
       "      <td>-</td>\n",
       "      <td>NaN</td>\n",
       "      <td>NaN</td>\n",
       "      <td>Closed</td>\n",
       "    </tr>\n",
       "    <tr>\n",
       "      <th>5</th>\n",
       "      <td>0000000-00.2014.0.00.0077</td>\n",
       "      <td>LABOR</td>\n",
       "      <td>2014-02-02</td>\n",
       "      <td>2015-03-09</td>\n",
       "      <td>150000.0</td>\n",
       "      <td>112500.0</td>\n",
       "      <td>FORTALEZA</td>\n",
       "      <td>THIRD</td>\n",
       "      <td>OREGON</td>\n",
       "      <td>TELEMARKETING ATTENDANT</td>\n",
       "      <td>Closed</td>\n",
       "    </tr>\n",
       "    <tr>\n",
       "      <th>6</th>\n",
       "      <td>0000000-00.2014.0.00.0076</td>\n",
       "      <td>LABOR</td>\n",
       "      <td>2014-07-22</td>\n",
       "      <td>2015-04-08</td>\n",
       "      <td>50000.0</td>\n",
       "      <td>7500.0</td>\n",
       "      <td>NATAL</td>\n",
       "      <td>THIRD</td>\n",
       "      <td>OREGON</td>\n",
       "      <td>TELEMARKETING ATTENDANT</td>\n",
       "      <td>Closed</td>\n",
       "    </tr>\n",
       "  </tbody>\n",
       "</table>\n",
       "</div>"
      ],
      "text/plain": [
       "              LAWSUIT NUMBER   AREA CLAIM START DATE CLOSE DATE  CLAIM AMOUNT  \\\n",
       "0  0000000-00.2010.0.00.0094    TAX       2010-05-07 2016-03-17       50000.0   \n",
       "3  0000000-00.2013.0.00.0096    TAX       2013-12-17 2017-02-02       95104.0   \n",
       "4  0000000-00.2014.0.00.0097    TAX       2014-01-15 2014-12-05       29000.0   \n",
       "5  0000000-00.2014.0.00.0077  LABOR       2014-02-02 2015-03-09      150000.0   \n",
       "6  0000000-00.2014.0.00.0076  LABOR       2014-07-22 2015-04-08       50000.0   \n",
       "\n",
       "   AMOUNT PAID CITY SUBSIDIARIES CONTRACT TYPE SUPPLIER NAME  \\\n",
       "0      15000.0            RECIFE             -           NaN   \n",
       "3      72279.0         FORTALEZA             -           NaN   \n",
       "4       5800.0         FORTALEZA             -           NaN   \n",
       "5     112500.0         FORTALEZA         THIRD        OREGON   \n",
       "6       7500.0             NATAL         THIRD        OREGON   \n",
       "\n",
       "          TYPE OF POSITION CLAIM_STATUS  \n",
       "0                      NaN       Closed  \n",
       "3                      NaN       Closed  \n",
       "4                      NaN       Closed  \n",
       "5  TELEMARKETING ATTENDANT       Closed  \n",
       "6  TELEMARKETING ATTENDANT       Closed  "
      ]
     },
     "execution_count": 35,
     "metadata": {},
     "output_type": "execute_result"
    }
   ],
   "source": [
    "closed = df[df['CLAIM_STATUS'] == 'Closed']\n",
    "closed.head()"
   ]
  },
  {
   "cell_type": "code",
   "execution_count": 36,
   "id": "fc80cc66-d510-4b57-ac1c-7133957c0f99",
   "metadata": {},
   "outputs": [
    {
     "data": {
      "text/plain": [
       "FORTALEZA    5\n",
       "NATAL        4\n",
       "RECIFE       3\n",
       "SÃO LUÍS     2\n",
       "Name: CITY SUBSIDIARIES, dtype: int64"
      ]
     },
     "execution_count": 36,
     "metadata": {},
     "output_type": "execute_result"
    }
   ],
   "source": [
    "#Number of closed claims per city\n",
    "closed['CITY SUBSIDIARIES'].value_counts()"
   ]
  },
  {
   "cell_type": "code",
   "execution_count": 37,
   "id": "23da2508-ec22-4580-960a-4e921ad76f6e",
   "metadata": {},
   "outputs": [
    {
     "data": {
      "image/png": "[encoded data removed]",
      "text/plain": [
       "<Figure size 430x360 with 1 Axes>"
      ]
     },
     "metadata": {
      "needs_background": "light"
     },
     "output_type": "display_data"
    }
   ],
   "source": [
    "#Number of closed claims per city and area\n",
    "sns.catplot(x='CITY SUBSIDIARIES', data= closed, kind= 'count', hue= 'AREA')\n",
    "plt.show()"
   ]
  },
  {
   "cell_type": "code",
   "execution_count": 38,
   "id": "6a70b4a7-261a-4dd8-9f24-39ec0387f475",
   "metadata": {},
   "outputs": [
    {
     "data": {
      "image/png": "[encoded data removed]",
      "text/plain": [
       "<Figure size 360x360 with 1 Axes>"
      ]
     },
     "metadata": {
      "needs_background": "light"
     },
     "output_type": "display_data"
    }
   ],
   "source": [
    "#Mean of amount paid by city, only closed claims\n",
    "sns.catplot(x= 'CITY SUBSIDIARIES', y = 'AMOUNT PAID', data= closed, kind= 'bar')\n",
    "plt.show()"
   ]
  },
  {
   "cell_type": "code",
   "execution_count": 39,
   "id": "d307fc4b-10bc-48e2-b131-66274931e5fe",
   "metadata": {},
   "outputs": [
    {
     "data": {
      "image/png": "[encoded data removed]",
      "text/plain": [
       "<Figure size 430x360 with 1 Axes>"
      ]
     },
     "metadata": {
      "needs_background": "light"
     },
     "output_type": "display_data"
    }
   ],
   "source": [
    "\n",
    "sns.catplot(x= 'CITY SUBSIDIARIES', y = 'AMOUNT PAID', data= closed, kind= 'swarm', hue='AREA')\n",
    "plt.show()"
   ]
  },
  {
   "cell_type": "code",
   "execution_count": 40,
   "id": "4e1f0807-24fa-43e2-9d4b-d33c91a4d16f",
   "metadata": {},
   "outputs": [
    {
     "data": {
      "application/com.datacamp.data-table.v1+json": {
       "table": {
        "data": [
         {
          "AREA": "LABOR",
          "All": 22500,
          "FORTALEZA": 58090,
          "NATAL": 16250,
          "RECIFE": 28838,
          "SÃO LUÍS": 43525
         },
         {
          "AREA": "TAX",
          "All": 19500,
          "FORTALEZA": 24000,
          "NATAL": 240986,
          "RECIFE": 15000,
          "SÃO LUÍS": null
         },
         {
          "AREA": "All",
          "All": 22000,
          "FORTALEZA": 24000,
          "NATAL": 19351,
          "RECIFE": 20000,
          "SÃO LUÍS": 43525
         }
        ],
        "schema": {
         "fields": [
          {
           "name": "AREA",
           "type": "string"
          },
          {
           "name": "FORTALEZA",
           "type": "number"
          },
          {
           "name": "NATAL",
           "type": "number"
          },
          {
           "name": "RECIFE",
           "type": "number"
          },
          {
           "name": "SÃO LUÍS",
           "type": "number"
          },
          {
           "name": "All",
           "type": "number"
          }
         ],
         "pandas_version": "0.20.0",
         "primaryKey": [
          "AREA"
         ]
        }
       },
       "total_rows": 3,
       "truncation_type": null
      },
      "text/html": [
       "<div>\n",
       "<style scoped>\n",
       "    .dataframe tbody tr th:only-of-type {\n",
       "        vertical-align: middle;\n",
       "    }\n",
       "\n",
       "    .dataframe tbody tr th {\n",
       "        vertical-align: top;\n",
       "    }\n",
       "\n",
       "    .dataframe thead th {\n",
       "        text-align: right;\n",
       "    }\n",
       "</style>\n",
       "<table border=\"1\" class=\"dataframe\">\n",
       "  <thead>\n",
       "    <tr style=\"text-align: right;\">\n",
       "      <th>CITY SUBSIDIARIES</th>\n",
       "      <th>FORTALEZA</th>\n",
       "      <th>NATAL</th>\n",
       "      <th>RECIFE</th>\n",
       "      <th>SÃO LUÍS</th>\n",
       "      <th>All</th>\n",
       "    </tr>\n",
       "    <tr>\n",
       "      <th>AREA</th>\n",
       "      <th></th>\n",
       "      <th></th>\n",
       "      <th></th>\n",
       "      <th></th>\n",
       "      <th></th>\n",
       "    </tr>\n",
       "  </thead>\n",
       "  <tbody>\n",
       "    <tr>\n",
       "      <th>LABOR</th>\n",
       "      <td>58090.0</td>\n",
       "      <td>16250.0</td>\n",
       "      <td>28838.0</td>\n",
       "      <td>43525.0</td>\n",
       "      <td>22500.0</td>\n",
       "    </tr>\n",
       "    <tr>\n",
       "      <th>TAX</th>\n",
       "      <td>24000.0</td>\n",
       "      <td>240986.0</td>\n",
       "      <td>15000.0</td>\n",
       "      <td>NaN</td>\n",
       "      <td>19500.0</td>\n",
       "    </tr>\n",
       "    <tr>\n",
       "      <th>All</th>\n",
       "      <td>24000.0</td>\n",
       "      <td>19351.0</td>\n",
       "      <td>20000.0</td>\n",
       "      <td>43525.0</td>\n",
       "      <td>22000.0</td>\n",
       "    </tr>\n",
       "  </tbody>\n",
       "</table>\n",
       "</div>"
      ],
      "text/plain": [
       "CITY SUBSIDIARIES  FORTALEZA     NATAL   RECIFE  SÃO LUÍS      All\n",
       "AREA                                                              \n",
       "LABOR                58090.0   16250.0  28838.0   43525.0  22500.0\n",
       "TAX                  24000.0  240986.0  15000.0       NaN  19500.0\n",
       "All                  24000.0   19351.0  20000.0   43525.0  22000.0"
      ]
     },
     "execution_count": 40,
     "metadata": {},
     "output_type": "execute_result"
    }
   ],
   "source": [
    "#Mean of paid amount per city and area\n",
    "pd.pivot_table(index='AREA', columns='CITY SUBSIDIARIES', aggfunc= np.median, data= closed, values= 'AMOUNT PAID', margins= True)"
   ]
  },
  {
   "cell_type": "markdown",
   "id": "805285c6-934d-4d45-89fd-f040feb7d502",
   "metadata": {},
   "source": [
    "## How much does the claim amount differ from each claim?"
   ]
  },
  {
   "cell_type": "code",
   "execution_count": 41,
   "id": "1fbc92e8-a46e-427e-af4e-9c63064af2e1",
   "metadata": {},
   "outputs": [
    {
     "data": {
      "text/plain": [
       "count        98.000000\n",
       "mean     122952.030612\n",
       "std      166433.389040\n",
       "min        3555.000000\n",
       "25%       40000.000000\n",
       "50%       58454.500000\n",
       "75%      136573.250000\n",
       "max      936540.000000\n",
       "Name: CLAIM AMOUNT, dtype: float64"
      ]
     },
     "execution_count": 41,
     "metadata": {},
     "output_type": "execute_result"
    }
   ],
   "source": [
    "#Descriptive stats of claim amount variable\n",
    "df['CLAIM AMOUNT'].describe()"
   ]
  },
  {
   "cell_type": "code",
   "execution_count": 42,
   "id": "f79c4363-0308-4995-b0eb-e086ddedf5d0",
   "metadata": {},
   "outputs": [
    {
     "data": {
      "image/png": "[encoded data removed]",
      "text/plain": [
       "<Figure size 432x288 with 1 Axes>"
      ]
     },
     "metadata": {
      "needs_background": "light"
     },
     "output_type": "display_data"
    }
   ],
   "source": [
    "#Histogram of claim amount distribution\n",
    "sns.histplot(data= df, x=\"CLAIM AMOUNT\", bins= 10)\n",
    "plt.show()"
   ]
  },
  {
   "cell_type": "code",
   "execution_count": 43,
   "id": "b3e2036d-6099-479c-8078-8286b1b86dfc",
   "metadata": {},
   "outputs": [
    {
     "data": {
      "image/png": "[encoded data removed]",
      "text/plain": [
       "<Figure size 360x360 with 1 Axes>"
      ]
     },
     "metadata": {
      "needs_background": "light"
     },
     "output_type": "display_data"
    }
   ],
   "source": [
    "#Distribution of claim amount\n",
    "sns.catplot(y=\"CLAIM AMOUNT\", kind=\"swarm\", data= df, x='AREA')\n",
    "plt.show()"
   ]
  },
  {
   "cell_type": "code",
   "execution_count": 44,
   "id": "a915a2c9-4228-4704-8ffb-eeb249cf426c",
   "metadata": {},
   "outputs": [
    {
     "data": {
      "image/png": "[encoded data removed]",
      "text/plain": [
       "<Figure size 360x360 with 1 Axes>"
      ]
     },
     "metadata": {
      "needs_background": "light"
     },
     "output_type": "display_data"
    }
   ],
   "source": [
    "#Distribution of claim amount\n",
    "sns.catplot(y=\"CLAIM AMOUNT\", kind=\"box\", data= df, x='AREA')\n",
    "plt.show()"
   ]
  },
  {
   "cell_type": "markdown",
   "id": "bb220de4-6045-426b-a539-e5742abbcc6a",
   "metadata": {},
   "source": [
    "## What we can learn from comparing active claims and closed claims?"
   ]
  },
  {
   "cell_type": "code",
   "execution_count": 45,
   "id": "cfd82fd2-7373-49a5-bc0e-72ecb2bc9ebe",
   "metadata": {},
   "outputs": [
    {
     "data": {
      "text/plain": [
       "Open      84\n",
       "Closed    14\n",
       "Name: CLAIM_STATUS, dtype: int64"
      ]
     },
     "execution_count": 45,
     "metadata": {},
     "output_type": "execute_result"
    }
   ],
   "source": [
    "df['CLAIM_STATUS'].value_counts()"
   ]
  },
  {
   "cell_type": "code",
   "execution_count": 46,
   "id": "c716605c-7e63-4ebc-9910-76c5d89ac08b",
   "metadata": {},
   "outputs": [
    {
     "data": {
      "image/png": "[encoded data removed]",
      "text/plain": [
       "<Figure size 720x360 with 2 Axes>"
      ]
     },
     "metadata": {
      "needs_background": "light"
     },
     "output_type": "display_data"
    }
   ],
   "source": [
    "#Claims per status and area\n",
    "sns.catplot(x='CLAIM_STATUS', data= df, kind= 'count', col='AREA')\n",
    "plt.show()"
   ]
  },
  {
   "cell_type": "code",
   "execution_count": 47,
   "id": "12dd127e-0c06-4590-8ab9-b2445434c90f",
   "metadata": {},
   "outputs": [
    {
     "data": {
      "application/com.datacamp.data-table.v1+json": {
       "table": {
        "data": [
         {
          "AREA": "LABOR",
          "All": 82,
          "Closed": 8,
          "Open": 74
         },
         {
          "AREA": "TAX",
          "All": 16,
          "Closed": 6,
          "Open": 10
         },
         {
          "AREA": "All",
          "All": 98,
          "Closed": 14,
          "Open": 84
         }
        ],
        "schema": {
         "fields": [
          {
           "name": "AREA",
           "type": "string"
          },
          {
           "name": "Closed",
           "type": "integer"
          },
          {
           "name": "Open",
           "type": "integer"
          },
          {
           "name": "All",
           "type": "integer"
          }
         ],
         "pandas_version": "0.20.0",
         "primaryKey": [
          "AREA"
         ]
        }
       },
       "total_rows": 3,
       "truncation_type": null
      },
      "text/html": [
       "<div>\n",
       "<style scoped>\n",
       "    .dataframe tbody tr th:only-of-type {\n",
       "        vertical-align: middle;\n",
       "    }\n",
       "\n",
       "    .dataframe tbody tr th {\n",
       "        vertical-align: top;\n",
       "    }\n",
       "\n",
       "    .dataframe thead th {\n",
       "        text-align: right;\n",
       "    }\n",
       "</style>\n",
       "<table border=\"1\" class=\"dataframe\">\n",
       "  <thead>\n",
       "    <tr style=\"text-align: right;\">\n",
       "      <th>CLAIM_STATUS</th>\n",
       "      <th>Closed</th>\n",
       "      <th>Open</th>\n",
       "      <th>All</th>\n",
       "    </tr>\n",
       "    <tr>\n",
       "      <th>AREA</th>\n",
       "      <th></th>\n",
       "      <th></th>\n",
       "      <th></th>\n",
       "    </tr>\n",
       "  </thead>\n",
       "  <tbody>\n",
       "    <tr>\n",
       "      <th>LABOR</th>\n",
       "      <td>8</td>\n",
       "      <td>74</td>\n",
       "      <td>82</td>\n",
       "    </tr>\n",
       "    <tr>\n",
       "      <th>TAX</th>\n",
       "      <td>6</td>\n",
       "      <td>10</td>\n",
       "      <td>16</td>\n",
       "    </tr>\n",
       "    <tr>\n",
       "      <th>All</th>\n",
       "      <td>14</td>\n",
       "      <td>84</td>\n",
       "      <td>98</td>\n",
       "    </tr>\n",
       "  </tbody>\n",
       "</table>\n",
       "</div>"
      ],
      "text/plain": [
       "CLAIM_STATUS  Closed  Open  All\n",
       "AREA                           \n",
       "LABOR              8    74   82\n",
       "TAX                6    10   16\n",
       "All               14    84   98"
      ]
     },
     "execution_count": 47,
     "metadata": {},
     "output_type": "execute_result"
    }
   ],
   "source": [
    "#Number of claims by area and claim status\n",
    "pd.pivot_table(index='AREA', columns='CLAIM_STATUS', aggfunc= 'count', data= df, values= 'LAWSUIT NUMBER', margins= True)"
   ]
  },
  {
   "cell_type": "code",
   "execution_count": 48,
   "id": "61f5154f-db57-4435-bc11-869d55091fd1",
   "metadata": {},
   "outputs": [
    {
     "data": {
      "text/plain": [
       "CLAIM_STATUS\n",
       "Closed    132907.214286\n",
       "Open      121292.833333\n",
       "Name: CLAIM AMOUNT, dtype: float64"
      ]
     },
     "execution_count": 48,
     "metadata": {},
     "output_type": "execute_result"
    }
   ],
   "source": [
    "#Mean of claim amount for both closed and open claims\n",
    "df.groupby('CLAIM_STATUS')['CLAIM AMOUNT'].mean()"
   ]
  },
  {
   "cell_type": "code",
   "execution_count": 49,
   "id": "2b79b3e2-ad01-4545-bad4-cb5090ce4524",
   "metadata": {},
   "outputs": [
    {
     "data": {
      "image/png": "[encoded data removed]",
      "text/plain": [
       "<Figure size 430x360 with 1 Axes>"
      ]
     },
     "metadata": {
      "needs_background": "light"
     },
     "output_type": "display_data"
    }
   ],
   "source": [
    "#Distribution of claim amount for closed and open claims\n",
    "sns.catplot(x=\"CLAIM_STATUS\", y=\"CLAIM AMOUNT\", hue=\"AREA\", kind=\"swarm\", data= df)\n",
    "plt.show()"
   ]
  },
  {
   "cell_type": "markdown",
   "id": "19b203b7-bcab-4ec3-8d6d-802e966d0f81",
   "metadata": {},
   "source": [
    "### Labor claims"
   ]
  },
  {
   "cell_type": "code",
   "execution_count": 50,
   "id": "b57dbcd3-2142-4a7f-ba92-78f8f18ca8b8",
   "metadata": {},
   "outputs": [
    {
     "data": {
      "application/com.datacamp.data-table.v1+json": {
       "table": {
        "data": [
         {
          "AMOUNT PAID": 112500,
          "AREA": "LABOR",
          "CITY SUBSIDIARIES": "FORTALEZA",
          "CLAIM AMOUNT": 150000,
          "CLAIM START DATE": "2014-02-02T00:00:00.000Z",
          "CLAIM_STATUS": "Closed",
          "CLOSE DATE": "2015-03-09T00:00:00.000Z",
          "CONTRACT TYPE": "THIRD",
          "LAWSUIT NUMBER": "0000000-00.2014.0.00.0077",
          "SUPPLIER NAME": "OREGON",
          "TYPE OF POSITION": "TELEMARKETING ATTENDANT",
          "index": 5
         },
         {
          "AMOUNT PAID": 7500,
          "AREA": "LABOR",
          "CITY SUBSIDIARIES": "NATAL",
          "CLAIM AMOUNT": 50000,
          "CLAIM START DATE": "2014-07-22T00:00:00.000Z",
          "CLAIM_STATUS": "Closed",
          "CLOSE DATE": "2015-04-08T00:00:00.000Z",
          "CONTRACT TYPE": "THIRD",
          "LAWSUIT NUMBER": "0000000-00.2014.0.00.0076",
          "SUPPLIER NAME": "OREGON",
          "TYPE OF POSITION": "TELEMARKETING ATTENDANT",
          "index": 6
         },
         {
          "AMOUNT PAID": null,
          "AREA": "LABOR",
          "CITY SUBSIDIARIES": "FORTALEZA",
          "CLAIM AMOUNT": 40870,
          "CLAIM START DATE": "2014-07-22T00:00:00.000Z",
          "CLAIM_STATUS": "Open",
          "CLOSE DATE": null,
          "CONTRACT TYPE": "THIRD",
          "LAWSUIT NUMBER": "0000000-00.2014.0.00.0043",
          "SUPPLIER NAME": "EAGLE SURVEILLANCE",
          "TYPE OF POSITION": "VIGILANT II",
          "index": 7
         },
         {
          "AMOUNT PAID": null,
          "AREA": "LABOR",
          "CITY SUBSIDIARIES": "FORTALEZA",
          "CLAIM AMOUNT": 70000,
          "CLAIM START DATE": "2014-08-20T00:00:00.000Z",
          "CLAIM_STATUS": "Open",
          "CLOSE DATE": null,
          "CONTRACT TYPE": "THIRD",
          "LAWSUIT NUMBER": "0000000-00.2014.0.00.0071",
          "SUPPLIER NAME": "BLUE'S CLEANING",
          "TYPE OF POSITION": "CLEANING LEADER",
          "index": 8
         },
         {
          "AMOUNT PAID": null,
          "AREA": "LABOR",
          "CITY SUBSIDIARIES": "RECIFE",
          "CLAIM AMOUNT": 55000,
          "CLAIM START DATE": "2015-05-14T00:00:00.000Z",
          "CLAIM_STATUS": "Open",
          "CLOSE DATE": null,
          "CONTRACT TYPE": "OWN",
          "LAWSUIT NUMBER": "0000000-00.2015.0.00.0000",
          "SUPPLIER NAME": "-",
          "TYPE OF POSITION": "KITCHEN ASSISTANT",
          "index": 9
         }
        ],
        "schema": {
         "fields": [
          {
           "name": "index",
           "type": "integer"
          },
          {
           "name": "LAWSUIT NUMBER",
           "type": "string"
          },
          {
           "name": "AREA",
           "type": "string"
          },
          {
           "name": "CLAIM START DATE",
           "type": "datetime"
          },
          {
           "name": "CLOSE DATE",
           "type": "datetime"
          },
          {
           "name": "CLAIM AMOUNT",
           "type": "number"
          },
          {
           "name": "AMOUNT PAID",
           "type": "number"
          },
          {
           "name": "CITY SUBSIDIARIES",
           "type": "string"
          },
          {
           "name": "CONTRACT TYPE",
           "type": "string"
          },
          {
           "name": "SUPPLIER NAME",
           "type": "string"
          },
          {
           "name": "TYPE OF POSITION",
           "type": "string"
          },
          {
           "name": "CLAIM_STATUS",
           "type": "string"
          }
         ],
         "pandas_version": "0.20.0",
         "primaryKey": [
          "index"
         ]
        }
       },
       "total_rows": 5,
       "truncation_type": null
      },
      "text/html": [
       "<div>\n",
       "<style scoped>\n",
       "    .dataframe tbody tr th:only-of-type {\n",
       "        vertical-align: middle;\n",
       "    }\n",
       "\n",
       "    .dataframe tbody tr th {\n",
       "        vertical-align: top;\n",
       "    }\n",
       "\n",
       "    .dataframe thead th {\n",
       "        text-align: right;\n",
       "    }\n",
       "</style>\n",
       "<table border=\"1\" class=\"dataframe\">\n",
       "  <thead>\n",
       "    <tr style=\"text-align: right;\">\n",
       "      <th></th>\n",
       "      <th>LAWSUIT NUMBER</th>\n",
       "      <th>AREA</th>\n",
       "      <th>CLAIM START DATE</th>\n",
       "      <th>CLOSE DATE</th>\n",
       "      <th>CLAIM AMOUNT</th>\n",
       "      <th>AMOUNT PAID</th>\n",
       "      <th>CITY SUBSIDIARIES</th>\n",
       "      <th>CONTRACT TYPE</th>\n",
       "      <th>SUPPLIER NAME</th>\n",
       "      <th>TYPE OF POSITION</th>\n",
       "      <th>CLAIM_STATUS</th>\n",
       "    </tr>\n",
       "  </thead>\n",
       "  <tbody>\n",
       "    <tr>\n",
       "      <th>5</th>\n",
       "      <td>0000000-00.2014.0.00.0077</td>\n",
       "      <td>LABOR</td>\n",
       "      <td>2014-02-02</td>\n",
       "      <td>2015-03-09</td>\n",
       "      <td>150000.0</td>\n",
       "      <td>112500.0</td>\n",
       "      <td>FORTALEZA</td>\n",
       "      <td>THIRD</td>\n",
       "      <td>OREGON</td>\n",
       "      <td>TELEMARKETING ATTENDANT</td>\n",
       "      <td>Closed</td>\n",
       "    </tr>\n",
       "    <tr>\n",
       "      <th>6</th>\n",
       "      <td>0000000-00.2014.0.00.0076</td>\n",
       "      <td>LABOR</td>\n",
       "      <td>2014-07-22</td>\n",
       "      <td>2015-04-08</td>\n",
       "      <td>50000.0</td>\n",
       "      <td>7500.0</td>\n",
       "      <td>NATAL</td>\n",
       "      <td>THIRD</td>\n",
       "      <td>OREGON</td>\n",
       "      <td>TELEMARKETING ATTENDANT</td>\n",
       "      <td>Closed</td>\n",
       "    </tr>\n",
       "    <tr>\n",
       "      <th>7</th>\n",
       "      <td>0000000-00.2014.0.00.0043</td>\n",
       "      <td>LABOR</td>\n",
       "      <td>2014-07-22</td>\n",
       "      <td>NaT</td>\n",
       "      <td>40870.0</td>\n",
       "      <td>NaN</td>\n",
       "      <td>FORTALEZA</td>\n",
       "      <td>THIRD</td>\n",
       "      <td>EAGLE SURVEILLANCE</td>\n",
       "      <td>VIGILANT II</td>\n",
       "      <td>Open</td>\n",
       "    </tr>\n",
       "    <tr>\n",
       "      <th>8</th>\n",
       "      <td>0000000-00.2014.0.00.0071</td>\n",
       "      <td>LABOR</td>\n",
       "      <td>2014-08-20</td>\n",
       "      <td>NaT</td>\n",
       "      <td>70000.0</td>\n",
       "      <td>NaN</td>\n",
       "      <td>FORTALEZA</td>\n",
       "      <td>THIRD</td>\n",
       "      <td>BLUE'S CLEANING</td>\n",
       "      <td>CLEANING LEADER</td>\n",
       "      <td>Open</td>\n",
       "    </tr>\n",
       "    <tr>\n",
       "      <th>9</th>\n",
       "      <td>0000000-00.2015.0.00.0000</td>\n",
       "      <td>LABOR</td>\n",
       "      <td>2015-05-14</td>\n",
       "      <td>NaT</td>\n",
       "      <td>55000.0</td>\n",
       "      <td>NaN</td>\n",
       "      <td>RECIFE</td>\n",
       "      <td>OWN</td>\n",
       "      <td>-</td>\n",
       "      <td>KITCHEN ASSISTANT</td>\n",
       "      <td>Open</td>\n",
       "    </tr>\n",
       "  </tbody>\n",
       "</table>\n",
       "</div>"
      ],
      "text/plain": [
       "              LAWSUIT NUMBER   AREA CLAIM START DATE CLOSE DATE  CLAIM AMOUNT  \\\n",
       "5  0000000-00.2014.0.00.0077  LABOR       2014-02-02 2015-03-09      150000.0   \n",
       "6  0000000-00.2014.0.00.0076  LABOR       2014-07-22 2015-04-08       50000.0   \n",
       "7  0000000-00.2014.0.00.0043  LABOR       2014-07-22        NaT       40870.0   \n",
       "8  0000000-00.2014.0.00.0071  LABOR       2014-08-20        NaT       70000.0   \n",
       "9  0000000-00.2015.0.00.0000  LABOR       2015-05-14        NaT       55000.0   \n",
       "\n",
       "   AMOUNT PAID CITY SUBSIDIARIES CONTRACT TYPE       SUPPLIER NAME  \\\n",
       "5     112500.0         FORTALEZA         THIRD              OREGON   \n",
       "6       7500.0             NATAL         THIRD              OREGON   \n",
       "7          NaN         FORTALEZA         THIRD  EAGLE SURVEILLANCE   \n",
       "8          NaN         FORTALEZA         THIRD     BLUE'S CLEANING   \n",
       "9          NaN            RECIFE           OWN                   -   \n",
       "\n",
       "          TYPE OF POSITION CLAIM_STATUS  \n",
       "5  TELEMARKETING ATTENDANT       Closed  \n",
       "6  TELEMARKETING ATTENDANT       Closed  \n",
       "7              VIGILANT II         Open  \n",
       "8          CLEANING LEADER         Open  \n",
       "9        KITCHEN ASSISTANT         Open  "
      ]
     },
     "execution_count": 50,
     "metadata": {},
     "output_type": "execute_result"
    }
   ],
   "source": [
    "LaborClaims= df[df['AREA'] == 'LABOR']\n",
    "LaborClaims.head()"
   ]
  },
  {
   "cell_type": "code",
   "execution_count": 51,
   "id": "cadd24f4-b043-46ed-9c83-a6f51ca4f38e",
   "metadata": {},
   "outputs": [
    {
     "data": {
      "text/plain": [
       "THIRD    58\n",
       "OWN      24\n",
       "Name: CONTRACT TYPE, dtype: int64"
      ]
     },
     "execution_count": 51,
     "metadata": {},
     "output_type": "execute_result"
    }
   ],
   "source": [
    "LaborClaims['CONTRACT TYPE'].value_counts()"
   ]
  },
  {
   "cell_type": "code",
   "execution_count": 52,
   "id": "d68fa545-08bf-4312-8e2f-a3d947ed86bf",
   "metadata": {},
   "outputs": [
    {
     "data": {
      "image/png": "[encoded data removed]",
      "text/plain": [
       "<Figure size 720x360 with 2 Axes>"
      ]
     },
     "metadata": {
      "needs_background": "light"
     },
     "output_type": "display_data"
    }
   ],
   "source": [
    "#Number of labor claims by contract type and claim status\n",
    "sns.catplot(x='CONTRACT TYPE', data= LaborClaims, kind= 'count', col='CLAIM_STATUS')\n",
    "plt.show()"
   ]
  },
  {
   "cell_type": "code",
   "execution_count": 53,
   "id": "191b274c-3000-4890-8e14-365dd2016ee5",
   "metadata": {},
   "outputs": [
    {
     "data": {
      "application/com.datacamp.data-table.v1+json": {
       "table": {
        "data": [
         {
          "AMOUNT PAID": 112500,
          "AREA": "LABOR",
          "CITY SUBSIDIARIES": "FORTALEZA",
          "CLAIM AMOUNT": 150000,
          "CLAIM START DATE": "2014-02-02T00:00:00.000Z",
          "CLAIM_STATUS": "Closed",
          "CLOSE DATE": "2015-03-09T00:00:00.000Z",
          "CONTRACT TYPE": "THIRD",
          "LAWSUIT NUMBER": "0000000-00.2014.0.00.0077",
          "SUPPLIER NAME": "OREGON",
          "TYPE OF POSITION": "TELEMARKETING ATTENDANT",
          "index": 5
         },
         {
          "AMOUNT PAID": 7500,
          "AREA": "LABOR",
          "CITY SUBSIDIARIES": "NATAL",
          "CLAIM AMOUNT": 50000,
          "CLAIM START DATE": "2014-07-22T00:00:00.000Z",
          "CLAIM_STATUS": "Closed",
          "CLOSE DATE": "2015-04-08T00:00:00.000Z",
          "CONTRACT TYPE": "THIRD",
          "LAWSUIT NUMBER": "0000000-00.2014.0.00.0076",
          "SUPPLIER NAME": "OREGON",
          "TYPE OF POSITION": "TELEMARKETING ATTENDANT",
          "index": 6
         },
         {
          "AMOUNT PAID": null,
          "AREA": "LABOR",
          "CITY SUBSIDIARIES": "FORTALEZA",
          "CLAIM AMOUNT": 40870,
          "CLAIM START DATE": "2014-07-22T00:00:00.000Z",
          "CLAIM_STATUS": "Open",
          "CLOSE DATE": null,
          "CONTRACT TYPE": "THIRD",
          "LAWSUIT NUMBER": "0000000-00.2014.0.00.0043",
          "SUPPLIER NAME": "EAGLE SURVEILLANCE",
          "TYPE OF POSITION": "VIGILANT II",
          "index": 7
         },
         {
          "AMOUNT PAID": null,
          "AREA": "LABOR",
          "CITY SUBSIDIARIES": "FORTALEZA",
          "CLAIM AMOUNT": 70000,
          "CLAIM START DATE": "2014-08-20T00:00:00.000Z",
          "CLAIM_STATUS": "Open",
          "CLOSE DATE": null,
          "CONTRACT TYPE": "THIRD",
          "LAWSUIT NUMBER": "0000000-00.2014.0.00.0071",
          "SUPPLIER NAME": "BLUE'S CLEANING",
          "TYPE OF POSITION": "CLEANING LEADER",
          "index": 8
         },
         {
          "AMOUNT PAID": null,
          "AREA": "LABOR",
          "CITY SUBSIDIARIES": "SÃO LUÍS",
          "CLAIM AMOUNT": 123102,
          "CLAIM START DATE": "2016-03-30T00:00:00.000Z",
          "CLAIM_STATUS": "Open",
          "CLOSE DATE": null,
          "CONTRACT TYPE": "THIRD",
          "LAWSUIT NUMBER": "0000000-00.2016.0.00.0045",
          "SUPPLIER NAME": "BLUE'S CLEANING",
          "TYPE OF POSITION": "CLEANING ASSISTANT",
          "index": 13
         }
        ],
        "schema": {
         "fields": [
          {
           "name": "index",
           "type": "integer"
          },
          {
           "name": "LAWSUIT NUMBER",
           "type": "string"
          },
          {
           "name": "AREA",
           "type": "string"
          },
          {
           "name": "CLAIM START DATE",
           "type": "datetime"
          },
          {
           "name": "CLOSE DATE",
           "type": "datetime"
          },
          {
           "name": "CLAIM AMOUNT",
           "type": "number"
          },
          {
           "name": "AMOUNT PAID",
           "type": "number"
          },
          {
           "name": "CITY SUBSIDIARIES",
           "type": "string"
          },
          {
           "name": "CONTRACT TYPE",
           "type": "string"
          },
          {
           "name": "SUPPLIER NAME",
           "type": "string"
          },
          {
           "name": "TYPE OF POSITION",
           "type": "string"
          },
          {
           "name": "CLAIM_STATUS",
           "type": "string"
          }
         ],
         "pandas_version": "0.20.0",
         "primaryKey": [
          "index"
         ]
        }
       },
       "total_rows": 5,
       "truncation_type": null
      },
      "text/html": [
       "<div>\n",
       "<style scoped>\n",
       "    .dataframe tbody tr th:only-of-type {\n",
       "        vertical-align: middle;\n",
       "    }\n",
       "\n",
       "    .dataframe tbody tr th {\n",
       "        vertical-align: top;\n",
       "    }\n",
       "\n",
       "    .dataframe thead th {\n",
       "        text-align: right;\n",
       "    }\n",
       "</style>\n",
       "<table border=\"1\" class=\"dataframe\">\n",
       "  <thead>\n",
       "    <tr style=\"text-align: right;\">\n",
       "      <th></th>\n",
       "      <th>LAWSUIT NUMBER</th>\n",
       "      <th>AREA</th>\n",
       "      <th>CLAIM START DATE</th>\n",
       "      <th>CLOSE DATE</th>\n",
       "      <th>CLAIM AMOUNT</th>\n",
       "      <th>AMOUNT PAID</th>\n",
       "      <th>CITY SUBSIDIARIES</th>\n",
       "      <th>CONTRACT TYPE</th>\n",
       "      <th>SUPPLIER NAME</th>\n",
       "      <th>TYPE OF POSITION</th>\n",
       "      <th>CLAIM_STATUS</th>\n",
       "    </tr>\n",
       "  </thead>\n",
       "  <tbody>\n",
       "    <tr>\n",
       "      <th>5</th>\n",
       "      <td>0000000-00.2014.0.00.0077</td>\n",
       "      <td>LABOR</td>\n",
       "      <td>2014-02-02</td>\n",
       "      <td>2015-03-09</td>\n",
       "      <td>150000.0</td>\n",
       "      <td>112500.0</td>\n",
       "      <td>FORTALEZA</td>\n",
       "      <td>THIRD</td>\n",
       "      <td>OREGON</td>\n",
       "      <td>TELEMARKETING ATTENDANT</td>\n",
       "      <td>Closed</td>\n",
       "    </tr>\n",
       "    <tr>\n",
       "      <th>6</th>\n",
       "      <td>0000000-00.2014.0.00.0076</td>\n",
       "      <td>LABOR</td>\n",
       "      <td>2014-07-22</td>\n",
       "      <td>2015-04-08</td>\n",
       "      <td>50000.0</td>\n",
       "      <td>7500.0</td>\n",
       "      <td>NATAL</td>\n",
       "      <td>THIRD</td>\n",
       "      <td>OREGON</td>\n",
       "      <td>TELEMARKETING ATTENDANT</td>\n",
       "      <td>Closed</td>\n",
       "    </tr>\n",
       "    <tr>\n",
       "      <th>7</th>\n",
       "      <td>0000000-00.2014.0.00.0043</td>\n",
       "      <td>LABOR</td>\n",
       "      <td>2014-07-22</td>\n",
       "      <td>NaT</td>\n",
       "      <td>40870.0</td>\n",
       "      <td>NaN</td>\n",
       "      <td>FORTALEZA</td>\n",
       "      <td>THIRD</td>\n",
       "      <td>EAGLE SURVEILLANCE</td>\n",
       "      <td>VIGILANT II</td>\n",
       "      <td>Open</td>\n",
       "    </tr>\n",
       "    <tr>\n",
       "      <th>8</th>\n",
       "      <td>0000000-00.2014.0.00.0071</td>\n",
       "      <td>LABOR</td>\n",
       "      <td>2014-08-20</td>\n",
       "      <td>NaT</td>\n",
       "      <td>70000.0</td>\n",
       "      <td>NaN</td>\n",
       "      <td>FORTALEZA</td>\n",
       "      <td>THIRD</td>\n",
       "      <td>BLUE'S CLEANING</td>\n",
       "      <td>CLEANING LEADER</td>\n",
       "      <td>Open</td>\n",
       "    </tr>\n",
       "    <tr>\n",
       "      <th>13</th>\n",
       "      <td>0000000-00.2016.0.00.0045</td>\n",
       "      <td>LABOR</td>\n",
       "      <td>2016-03-30</td>\n",
       "      <td>NaT</td>\n",
       "      <td>123102.0</td>\n",
       "      <td>NaN</td>\n",
       "      <td>SÃO LUÍS</td>\n",
       "      <td>THIRD</td>\n",
       "      <td>BLUE'S CLEANING</td>\n",
       "      <td>CLEANING ASSISTANT</td>\n",
       "      <td>Open</td>\n",
       "    </tr>\n",
       "  </tbody>\n",
       "</table>\n",
       "</div>"
      ],
      "text/plain": [
       "               LAWSUIT NUMBER   AREA CLAIM START DATE CLOSE DATE  \\\n",
       "5   0000000-00.2014.0.00.0077  LABOR       2014-02-02 2015-03-09   \n",
       "6   0000000-00.2014.0.00.0076  LABOR       2014-07-22 2015-04-08   \n",
       "7   0000000-00.2014.0.00.0043  LABOR       2014-07-22        NaT   \n",
       "8   0000000-00.2014.0.00.0071  LABOR       2014-08-20        NaT   \n",
       "13  0000000-00.2016.0.00.0045  LABOR       2016-03-30        NaT   \n",
       "\n",
       "    CLAIM AMOUNT  AMOUNT PAID CITY SUBSIDIARIES CONTRACT TYPE  \\\n",
       "5       150000.0     112500.0         FORTALEZA         THIRD   \n",
       "6        50000.0       7500.0             NATAL         THIRD   \n",
       "7        40870.0          NaN         FORTALEZA         THIRD   \n",
       "8        70000.0          NaN         FORTALEZA         THIRD   \n",
       "13      123102.0          NaN          SÃO LUÍS         THIRD   \n",
       "\n",
       "         SUPPLIER NAME         TYPE OF POSITION CLAIM_STATUS  \n",
       "5               OREGON  TELEMARKETING ATTENDANT       Closed  \n",
       "6               OREGON  TELEMARKETING ATTENDANT       Closed  \n",
       "7   EAGLE SURVEILLANCE              VIGILANT II         Open  \n",
       "8      BLUE'S CLEANING          CLEANING LEADER         Open  \n",
       "13     BLUE'S CLEANING       CLEANING ASSISTANT         Open  "
      ]
     },
     "execution_count": 53,
     "metadata": {},
     "output_type": "execute_result"
    }
   ],
   "source": [
    "#Reclamos de terceros\n",
    "SupplierClaims= LaborClaims[LaborClaims['CONTRACT TYPE'] == 'THIRD']\n",
    "SupplierClaims.head()"
   ]
  },
  {
   "cell_type": "markdown",
   "id": "c3706413-d37d-44a5-8c5d-5368aa5e4ba1",
   "metadata": {},
   "source": [
    "### Supplier's claims"
   ]
  },
  {
   "cell_type": "code",
   "execution_count": 54,
   "id": "864c7fa4-112b-4f3b-8213-e85e234fb6fa",
   "metadata": {},
   "outputs": [
    {
     "data": {
      "text/plain": [
       "BLUE'S CLEANING       28\n",
       "EAGLE SURVEILLANCE    21\n",
       "OREGON                 9\n",
       "Name: SUPPLIER NAME, dtype: int64"
      ]
     },
     "execution_count": 54,
     "metadata": {},
     "output_type": "execute_result"
    }
   ],
   "source": [
    "SupplierClaims['SUPPLIER NAME'].value_counts()"
   ]
  },
  {
   "cell_type": "code",
   "execution_count": 55,
   "id": "1a90016d-bc30-4e7e-a7b1-26ea8f66e38d",
   "metadata": {},
   "outputs": [
    {
     "data": {
      "image/png": "[encoded data removed]",
      "text/plain": [
       "<Figure size 720x360 with 2 Axes>"
      ]
     },
     "metadata": {
      "needs_background": "light"
     },
     "output_type": "display_data"
    }
   ],
   "source": [
    "#Number of claims by supplier and claim status\n",
    "sns.catplot(x='SUPPLIER NAME', data= SupplierClaims, kind= 'count', col='CLAIM_STATUS')\n",
    "plt.show()"
   ]
  },
  {
   "cell_type": "code",
   "execution_count": 56,
   "id": "af716536-236c-466f-bf54-c9a083d958db",
   "metadata": {},
   "outputs": [
    {
     "data": {
      "text/plain": [
       "CLEANING ASSISTANT         24\n",
       "VIGILANT                   12\n",
       "VIGILANT II                 9\n",
       "TELEMARKETING ATTENDANT     9\n",
       "CLEANING LEADER             3\n",
       "CLEANING MANAGER            1\n",
       "Name: TYPE OF POSITION, dtype: int64"
      ]
     },
     "execution_count": 56,
     "metadata": {},
     "output_type": "execute_result"
    }
   ],
   "source": [
    "SupplierClaims['TYPE OF POSITION'].value_counts()"
   ]
  },
  {
   "cell_type": "code",
   "execution_count": 57,
   "id": "e7367a59-9462-491c-b2ae-e805e6d0d566",
   "metadata": {},
   "outputs": [
    {
     "data": {
      "application/com.datacamp.data-table.v1+json": {
       "table": {
        "data": [
         {
          "All": 24,
          "BLUE'S CLEANING": 24,
          "EAGLE SURVEILLANCE": null,
          "OREGON": null,
          "TYPE OF POSITION": "CLEANING ASSISTANT"
         },
         {
          "All": 3,
          "BLUE'S CLEANING": 3,
          "EAGLE SURVEILLANCE": null,
          "OREGON": null,
          "TYPE OF POSITION": "CLEANING LEADER"
         },
         {
          "All": 1,
          "BLUE'S CLEANING": 1,
          "EAGLE SURVEILLANCE": null,
          "OREGON": null,
          "TYPE OF POSITION": "CLEANING MANAGER"
         },
         {
          "All": 9,
          "BLUE'S CLEANING": null,
          "EAGLE SURVEILLANCE": null,
          "OREGON": 9,
          "TYPE OF POSITION": "TELEMARKETING ATTENDANT"
         },
         {
          "All": 12,
          "BLUE'S CLEANING": null,
          "EAGLE SURVEILLANCE": 12,
          "OREGON": null,
          "TYPE OF POSITION": "VIGILANT"
         },
         {
          "All": 9,
          "BLUE'S CLEANING": null,
          "EAGLE SURVEILLANCE": 9,
          "OREGON": null,
          "TYPE OF POSITION": "VIGILANT II"
         },
         {
          "All": 58,
          "BLUE'S CLEANING": 28,
          "EAGLE SURVEILLANCE": 21,
          "OREGON": 9,
          "TYPE OF POSITION": "All"
         }
        ],
        "schema": {
         "fields": [
          {
           "name": "TYPE OF POSITION",
           "type": "string"
          },
          {
           "name": "BLUE'S CLEANING",
           "type": "number"
          },
          {
           "name": "EAGLE SURVEILLANCE",
           "type": "number"
          },
          {
           "name": "OREGON",
           "type": "number"
          },
          {
           "name": "All",
           "type": "integer"
          }
         ],
         "pandas_version": "0.20.0",
         "primaryKey": [
          "TYPE OF POSITION"
         ]
        }
       },
       "total_rows": 7,
       "truncation_type": null
      },
      "text/html": [
       "<div>\n",
       "<style scoped>\n",
       "    .dataframe tbody tr th:only-of-type {\n",
       "        vertical-align: middle;\n",
       "    }\n",
       "\n",
       "    .dataframe tbody tr th {\n",
       "        vertical-align: top;\n",
       "    }\n",
       "\n",
       "    .dataframe thead th {\n",
       "        text-align: right;\n",
       "    }\n",
       "</style>\n",
       "<table border=\"1\" class=\"dataframe\">\n",
       "  <thead>\n",
       "    <tr style=\"text-align: right;\">\n",
       "      <th>SUPPLIER NAME</th>\n",
       "      <th>BLUE'S CLEANING</th>\n",
       "      <th>EAGLE SURVEILLANCE</th>\n",
       "      <th>OREGON</th>\n",
       "      <th>All</th>\n",
       "    </tr>\n",
       "    <tr>\n",
       "      <th>TYPE OF POSITION</th>\n",
       "      <th></th>\n",
       "      <th></th>\n",
       "      <th></th>\n",
       "      <th></th>\n",
       "    </tr>\n",
       "  </thead>\n",
       "  <tbody>\n",
       "    <tr>\n",
       "      <th>CLEANING ASSISTANT</th>\n",
       "      <td>24.0</td>\n",
       "      <td>NaN</td>\n",
       "      <td>NaN</td>\n",
       "      <td>24</td>\n",
       "    </tr>\n",
       "    <tr>\n",
       "      <th>CLEANING LEADER</th>\n",
       "      <td>3.0</td>\n",
       "      <td>NaN</td>\n",
       "      <td>NaN</td>\n",
       "      <td>3</td>\n",
       "    </tr>\n",
       "    <tr>\n",
       "      <th>CLEANING MANAGER</th>\n",
       "      <td>1.0</td>\n",
       "      <td>NaN</td>\n",
       "      <td>NaN</td>\n",
       "      <td>1</td>\n",
       "    </tr>\n",
       "    <tr>\n",
       "      <th>TELEMARKETING ATTENDANT</th>\n",
       "      <td>NaN</td>\n",
       "      <td>NaN</td>\n",
       "      <td>9.0</td>\n",
       "      <td>9</td>\n",
       "    </tr>\n",
       "    <tr>\n",
       "      <th>VIGILANT</th>\n",
       "      <td>NaN</td>\n",
       "      <td>12.0</td>\n",
       "      <td>NaN</td>\n",
       "      <td>12</td>\n",
       "    </tr>\n",
       "    <tr>\n",
       "      <th>VIGILANT II</th>\n",
       "      <td>NaN</td>\n",
       "      <td>9.0</td>\n",
       "      <td>NaN</td>\n",
       "      <td>9</td>\n",
       "    </tr>\n",
       "    <tr>\n",
       "      <th>All</th>\n",
       "      <td>28.0</td>\n",
       "      <td>21.0</td>\n",
       "      <td>9.0</td>\n",
       "      <td>58</td>\n",
       "    </tr>\n",
       "  </tbody>\n",
       "</table>\n",
       "</div>"
      ],
      "text/plain": [
       "SUPPLIER NAME            BLUE'S CLEANING  EAGLE SURVEILLANCE  OREGON  All\n",
       "TYPE OF POSITION                                                         \n",
       "CLEANING ASSISTANT                  24.0                 NaN     NaN   24\n",
       "CLEANING LEADER                      3.0                 NaN     NaN    3\n",
       "CLEANING MANAGER                     1.0                 NaN     NaN    1\n",
       "TELEMARKETING ATTENDANT              NaN                 NaN     9.0    9\n",
       "VIGILANT                             NaN                12.0     NaN   12\n",
       "VIGILANT II                          NaN                 9.0     NaN    9\n",
       "All                                 28.0                21.0     9.0   58"
      ]
     },
     "execution_count": 57,
     "metadata": {},
     "output_type": "execute_result"
    }
   ],
   "source": [
    "#Number of claims by supplier and type of position\n",
    "pd.pivot_table(index='TYPE OF POSITION', columns='SUPPLIER NAME', aggfunc= 'count', data= SupplierClaims, values= 'LAWSUIT NUMBER', margins= True)"
   ]
  },
  {
   "cell_type": "markdown",
   "id": "a877bc4e-c42b-4761-b052-95188bd9c46f",
   "metadata": {},
   "source": [
    "### Análisis de reclamos de empleados propios"
   ]
  },
  {
   "cell_type": "code",
   "execution_count": 58,
   "id": "6fc10d4c-0714-44d3-a95f-1d304a839e59",
   "metadata": {},
   "outputs": [
    {
     "data": {
      "application/com.datacamp.data-table.v1+json": {
       "table": {
        "data": [
         {
          "AMOUNT PAID": null,
          "AREA": "LABOR",
          "CITY SUBSIDIARIES": "RECIFE",
          "CLAIM AMOUNT": 55000,
          "CLAIM START DATE": "2015-05-14T00:00:00.000Z",
          "CLAIM_STATUS": "Open",
          "CLOSE DATE": null,
          "CONTRACT TYPE": "OWN",
          "LAWSUIT NUMBER": "0000000-00.2015.0.00.0000",
          "SUPPLIER NAME": "-",
          "TYPE OF POSITION": "KITCHEN ASSISTANT",
          "index": 9
         },
         {
          "AMOUNT PAID": null,
          "AREA": "LABOR",
          "CITY SUBSIDIARIES": "NATAL",
          "CLAIM AMOUNT": 27741,
          "CLAIM START DATE": "2015-08-02T00:00:00.000Z",
          "CLAIM_STATUS": "Open",
          "CLOSE DATE": null,
          "CONTRACT TYPE": "OWN",
          "LAWSUIT NUMBER": "0000000-00.2015.0.00.0018",
          "SUPPLIER NAME": "-",
          "TYPE OF POSITION": "KITCHEN ASSISTANT",
          "index": 11
         },
         {
          "AMOUNT PAID": null,
          "AREA": "LABOR",
          "CITY SUBSIDIARIES": "RECIFE",
          "CLAIM AMOUNT": 37801,
          "CLAIM START DATE": "2015-09-07T00:00:00.000Z",
          "CLAIM_STATUS": "Open",
          "CLOSE DATE": null,
          "CONTRACT TYPE": "OWN",
          "LAWSUIT NUMBER": "0000000-00.2015.0.00.0002",
          "SUPPLIER NAME": "-",
          "TYPE OF POSITION": "KITCHEN ASSISTANT",
          "index": 12
         },
         {
          "AMOUNT PAID": null,
          "AREA": "LABOR",
          "CITY SUBSIDIARIES": "SÃO LUÍS",
          "CLAIM AMOUNT": 40000,
          "CLAIM START DATE": "2016-07-31T00:00:00.000Z",
          "CLAIM_STATUS": "Open",
          "CLOSE DATE": null,
          "CONTRACT TYPE": "OWN",
          "LAWSUIT NUMBER": "0000000-00.2016.0.00.0019",
          "SUPPLIER NAME": "-",
          "TYPE OF POSITION": "CASHIER",
          "index": 19
         },
         {
          "AMOUNT PAID": null,
          "AREA": "LABOR",
          "CITY SUBSIDIARIES": "RECIFE",
          "CLAIM AMOUNT": 704839,
          "CLAIM START DATE": "2017-10-24T00:00:00.000Z",
          "CLAIM_STATUS": "Open",
          "CLOSE DATE": null,
          "CONTRACT TYPE": "OWN",
          "LAWSUIT NUMBER": "0000000-00.2017.0.00.0011",
          "SUPPLIER NAME": "-",
          "TYPE OF POSITION": "CASHIER",
          "index": 29
         }
        ],
        "schema": {
         "fields": [
          {
           "name": "index",
           "type": "integer"
          },
          {
           "name": "LAWSUIT NUMBER",
           "type": "string"
          },
          {
           "name": "AREA",
           "type": "string"
          },
          {
           "name": "CLAIM START DATE",
           "type": "datetime"
          },
          {
           "name": "CLOSE DATE",
           "type": "datetime"
          },
          {
           "name": "CLAIM AMOUNT",
           "type": "number"
          },
          {
           "name": "AMOUNT PAID",
           "type": "number"
          },
          {
           "name": "CITY SUBSIDIARIES",
           "type": "string"
          },
          {
           "name": "CONTRACT TYPE",
           "type": "string"
          },
          {
           "name": "SUPPLIER NAME",
           "type": "string"
          },
          {
           "name": "TYPE OF POSITION",
           "type": "string"
          },
          {
           "name": "CLAIM_STATUS",
           "type": "string"
          }
         ],
         "pandas_version": "0.20.0",
         "primaryKey": [
          "index"
         ]
        }
       },
       "total_rows": 5,
       "truncation_type": null
      },
      "text/html": [
       "<div>\n",
       "<style scoped>\n",
       "    .dataframe tbody tr th:only-of-type {\n",
       "        vertical-align: middle;\n",
       "    }\n",
       "\n",
       "    .dataframe tbody tr th {\n",
       "        vertical-align: top;\n",
       "    }\n",
       "\n",
       "    .dataframe thead th {\n",
       "        text-align: right;\n",
       "    }\n",
       "</style>\n",
       "<table border=\"1\" class=\"dataframe\">\n",
       "  <thead>\n",
       "    <tr style=\"text-align: right;\">\n",
       "      <th></th>\n",
       "      <th>LAWSUIT NUMBER</th>\n",
       "      <th>AREA</th>\n",
       "      <th>CLAIM START DATE</th>\n",
       "      <th>CLOSE DATE</th>\n",
       "      <th>CLAIM AMOUNT</th>\n",
       "      <th>AMOUNT PAID</th>\n",
       "      <th>CITY SUBSIDIARIES</th>\n",
       "      <th>CONTRACT TYPE</th>\n",
       "      <th>SUPPLIER NAME</th>\n",
       "      <th>TYPE OF POSITION</th>\n",
       "      <th>CLAIM_STATUS</th>\n",
       "    </tr>\n",
       "  </thead>\n",
       "  <tbody>\n",
       "    <tr>\n",
       "      <th>9</th>\n",
       "      <td>0000000-00.2015.0.00.0000</td>\n",
       "      <td>LABOR</td>\n",
       "      <td>2015-05-14</td>\n",
       "      <td>NaT</td>\n",
       "      <td>55000.0</td>\n",
       "      <td>NaN</td>\n",
       "      <td>RECIFE</td>\n",
       "      <td>OWN</td>\n",
       "      <td>-</td>\n",
       "      <td>KITCHEN ASSISTANT</td>\n",
       "      <td>Open</td>\n",
       "    </tr>\n",
       "    <tr>\n",
       "      <th>11</th>\n",
       "      <td>0000000-00.2015.0.00.0018</td>\n",
       "      <td>LABOR</td>\n",
       "      <td>2015-08-02</td>\n",
       "      <td>NaT</td>\n",
       "      <td>27741.0</td>\n",
       "      <td>NaN</td>\n",
       "      <td>NATAL</td>\n",
       "      <td>OWN</td>\n",
       "      <td>-</td>\n",
       "      <td>KITCHEN ASSISTANT</td>\n",
       "      <td>Open</td>\n",
       "    </tr>\n",
       "    <tr>\n",
       "      <th>12</th>\n",
       "      <td>0000000-00.2015.0.00.0002</td>\n",
       "      <td>LABOR</td>\n",
       "      <td>2015-09-07</td>\n",
       "      <td>NaT</td>\n",
       "      <td>37801.0</td>\n",
       "      <td>NaN</td>\n",
       "      <td>RECIFE</td>\n",
       "      <td>OWN</td>\n",
       "      <td>-</td>\n",
       "      <td>KITCHEN ASSISTANT</td>\n",
       "      <td>Open</td>\n",
       "    </tr>\n",
       "    <tr>\n",
       "      <th>19</th>\n",
       "      <td>0000000-00.2016.0.00.0019</td>\n",
       "      <td>LABOR</td>\n",
       "      <td>2016-07-31</td>\n",
       "      <td>NaT</td>\n",
       "      <td>40000.0</td>\n",
       "      <td>NaN</td>\n",
       "      <td>SÃO LUÍS</td>\n",
       "      <td>OWN</td>\n",
       "      <td>-</td>\n",
       "      <td>CASHIER</td>\n",
       "      <td>Open</td>\n",
       "    </tr>\n",
       "    <tr>\n",
       "      <th>29</th>\n",
       "      <td>0000000-00.2017.0.00.0011</td>\n",
       "      <td>LABOR</td>\n",
       "      <td>2017-10-24</td>\n",
       "      <td>NaT</td>\n",
       "      <td>704839.0</td>\n",
       "      <td>NaN</td>\n",
       "      <td>RECIFE</td>\n",
       "      <td>OWN</td>\n",
       "      <td>-</td>\n",
       "      <td>CASHIER</td>\n",
       "      <td>Open</td>\n",
       "    </tr>\n",
       "  </tbody>\n",
       "</table>\n",
       "</div>"
      ],
      "text/plain": [
       "               LAWSUIT NUMBER   AREA CLAIM START DATE CLOSE DATE  \\\n",
       "9   0000000-00.2015.0.00.0000  LABOR       2015-05-14        NaT   \n",
       "11  0000000-00.2015.0.00.0018  LABOR       2015-08-02        NaT   \n",
       "12  0000000-00.2015.0.00.0002  LABOR       2015-09-07        NaT   \n",
       "19  0000000-00.2016.0.00.0019  LABOR       2016-07-31        NaT   \n",
       "29  0000000-00.2017.0.00.0011  LABOR       2017-10-24        NaT   \n",
       "\n",
       "    CLAIM AMOUNT  AMOUNT PAID CITY SUBSIDIARIES CONTRACT TYPE SUPPLIER NAME  \\\n",
       "9        55000.0          NaN            RECIFE           OWN             -   \n",
       "11       27741.0          NaN             NATAL           OWN             -   \n",
       "12       37801.0          NaN            RECIFE           OWN             -   \n",
       "19       40000.0          NaN          SÃO LUÍS           OWN             -   \n",
       "29      704839.0          NaN            RECIFE           OWN             -   \n",
       "\n",
       "     TYPE OF POSITION CLAIM_STATUS  \n",
       "9   KITCHEN ASSISTANT         Open  \n",
       "11  KITCHEN ASSISTANT         Open  \n",
       "12  KITCHEN ASSISTANT         Open  \n",
       "19            CASHIER         Open  \n",
       "29            CASHIER         Open  "
      ]
     },
     "execution_count": 58,
     "metadata": {},
     "output_type": "execute_result"
    }
   ],
   "source": [
    "\n",
    "OwnClaims= LaborClaims[LaborClaims['CONTRACT TYPE'] == 'OWN']\n",
    "OwnClaims.head()"
   ]
  },
  {
   "cell_type": "code",
   "execution_count": 59,
   "id": "ed5d63be-8281-47b9-984e-dc4b303a01a6",
   "metadata": {},
   "outputs": [
    {
     "data": {
      "text/plain": [
       "KITCHEN ASSISTANT    13\n",
       "CASHIER               6\n",
       "CHEF                  3\n",
       "MANAGER               2\n",
       "Name: TYPE OF POSITION, dtype: int64"
      ]
     },
     "execution_count": 59,
     "metadata": {},
     "output_type": "execute_result"
    }
   ],
   "source": [
    "OwnClaims['TYPE OF POSITION'].value_counts()"
   ]
  },
  {
   "cell_type": "code",
   "execution_count": 60,
   "id": "b399b712-b670-4564-913f-3a7ce71e00ea",
   "metadata": {},
   "outputs": [
    {
     "data": {
      "image/png": "[encoded data removed]",
      "text/plain": [
       "<Figure size 360x360 with 1 Axes>"
      ]
     },
     "metadata": {
      "needs_background": "light"
     },
     "output_type": "display_data"
    }
   ],
   "source": [
    "#Own employee's claims per type of position\n",
    "sns.catplot(x='TYPE OF POSITION', data= OwnClaims, kind= 'count', col='CLAIM_STATUS')\n",
    "plt.show()"
   ]
  },
  {
   "cell_type": "markdown",
   "id": "cbdc2adb-9c18-443c-9e2e-e363be47f159",
   "metadata": {},
   "source": [
    "## Existe relación entre el monto reclamado y el monto pagado?"
   ]
  },
  {
   "cell_type": "code",
   "execution_count": 62,
   "id": "8ba6b8b4-b9ff-4149-9f86-a780013d2a32",
   "metadata": {},
   "outputs": [
    {
     "data": {
      "image/png": "[encoded data removed]",
      "text/plain": [
       "<Figure size 432x288 with 1 Axes>"
      ]
     },
     "metadata": {
      "needs_background": "light"
     },
     "output_type": "display_data"
    }
   ],
   "source": [
    "#Regression model for claim amount and amount paid\n",
    "sns.regplot(x='CLAIM AMOUNT', y='AMOUNT PAID', data=df)\n",
    "plt.show()\n"
   ]
  },
  {
   "cell_type": "code",
   "execution_count": 67,
   "id": "fbb610c8-f341-4d3b-9a16-e9fce176072e",
   "metadata": {},
   "outputs": [
    {
     "data": {
      "text/plain": [
       "112500.0"
      ]
     },
     "execution_count": 67,
     "metadata": {},
     "output_type": "execute_result"
    }
   ],
   "source": [
    "without_outlier= df[df['AMOUNT PAID'] < 300000]\n",
    "without_outlier['AMOUNT PAID'].max()"
   ]
  },
  {
   "cell_type": "code",
   "execution_count": 68,
   "id": "ba2bd447-a3d4-4d2e-9a47-e2965e69682d",
   "metadata": {},
   "outputs": [
    {
     "data": {
      "image/png": "[encoded data removed]",
      "text/plain": [
       "<Figure size 432x288 with 1 Axes>"
      ]
     },
     "metadata": {
      "needs_background": "light"
     },
     "output_type": "display_data"
    }
   ],
   "source": [
    "#Regression line for claim amount and amount paid, without the extreme value\n",
    "sns.regplot(x='CLAIM AMOUNT', y='AMOUNT PAID', data=without_outlier)\n",
    "plt.show()"
   ]
  },
  {
   "cell_type": "code",
   "execution_count": 69,
   "id": "a7194fb2-c701-4d10-85cb-804d26e604e7",
   "metadata": {},
   "outputs": [
    {
     "data": {
      "image/png": "[encoded data removed]",
      "text/plain": [
       "<Figure size 432x432 with 3 Axes>"
      ]
     },
     "metadata": {
      "needs_background": "light"
     },
     "output_type": "display_data"
    }
   ],
   "source": [
    "#Jointplot for claim amount and amount paid, without the extreme value\n",
    "sns.jointplot(x='CLAIM AMOUNT', y='AMOUNT PAID', data=without_outlier)\n",
    "plt.show()"
   ]
  },
  {
   "cell_type": "markdown",
   "id": "f635131a-00f8-44dd-b610-509db41c1154",
   "metadata": {
    "tags": []
   },
   "source": [
    "### ✅ When you have finished...\n",
    "-  Publish your Workspace using the option on the left\n",
    "-  Check the published version of your report:\n",
    "\t-  Can you see everything you want us to grade?\n",
    "    -  Are all the graphics visible?\n",
    "-  Review the grading rubric, have you included everything that will be graded?\n",
    "-  Head back to the [Certification Dashboard](https://app.datacamp.com/certification) to submit your case study"
   ]
  }
 ],
 "metadata": {
  "colab": {
   "name": "Welcome to DataCamp Workspaces.ipynb",
   "provenance": []
  },
  "kernelspec": {
   "display_name": "Python 3 (ipykernel)",
   "language": "python",
   "name": "python3"
  },
  "language_info": {
   "codemirror_mode": {
    "name": "ipython",
    "version": 3
   },
   "file_extension": ".py",
   "mimetype": "text/x-python",
   "name": "python",
   "nbconvert_exporter": "python",
   "pygments_lexer": "ipython3",
   "version": "3.9.7"
  }
 },
 "nbformat": 4,
 "nbformat_minor": 5
}
